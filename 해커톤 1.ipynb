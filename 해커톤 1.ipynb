{
 "cells": [
  {
   "cell_type": "code",
   "execution_count": 16,
   "metadata": {},
   "outputs": [
    {
     "name": "stdout",
     "output_type": "stream",
     "text": [
      "\u001b[33mDEPRECATION: Configuring installation scheme with distutils config files is deprecated and will no longer work in the near future. If you are using a Homebrew or Linuxbrew Python, please see discussion at https://github.com/Homebrew/homebrew-core/issues/76621\u001b[0m\n",
      "Collecting tqdm\n",
      "  Downloading tqdm-4.62.3-py2.py3-none-any.whl (76 kB)\n",
      "     |████████████████████████████████| 76 kB 5.9 MB/s             \n",
      "\u001b[?25hInstalling collected packages: tqdm\n",
      "\u001b[33mDEPRECATION: Configuring installation scheme with distutils config files is deprecated and will no longer work in the near future. If you are using a Homebrew or Linuxbrew Python, please see discussion at https://github.com/Homebrew/homebrew-core/issues/76621\u001b[0m\n",
      "Successfully installed tqdm-4.62.3\n"
     ]
    }
   ],
   "source": [
    "!pip3 install tqdm"
   ]
  },
  {
   "cell_type": "code",
   "execution_count": 13,
   "metadata": {
    "executionInfo": {
     "elapsed": 316,
     "status": "ok",
     "timestamp": 1640931511319,
     "user": {
      "displayName": "서명교",
      "photoUrl": "https://lh3.googleusercontent.com/a/default-user=s64",
      "userId": "11730583039526359700"
     },
     "user_tz": -540
    },
    "id": "Z7ph5PKwwSMy"
   },
   "outputs": [],
   "source": [
    "# 기본\n",
    "import itertools\n",
    "import numpy as np\n",
    "import pandas as pd\n",
    "import seaborn as sns\n",
    "import matplotlib as mpl\n",
    "import matplotlib.pyplot as plt\n",
    "import joblib\n",
    "import math\n",
    "# from sklearn.externals import joblib \n",
    "\n",
    "# 시계열\n",
    "# from fbprophet import Prophet\n",
    "from datetime import datetime as dt\n",
    "# from statsmodels.tsa.arima_model import ARIMA\n",
    "# from dateutil.relativedelta import relativedelta\n",
    "# from statsmodels.tsa.api import SimpleExpSmoothing, Holt, ExponentialSmoothing\n",
    "\n",
    "# 회귀분석\n",
    "# from sklearn.svm import SVR\n",
    "# from xgboost import XGBRegressor\n",
    "from sklearn.ensemble import RandomForestClassifier #,RandomForestRegressor\n",
    "# from sklearn.pipeline import make_pipeline, Pipeline\n",
    "from sklearn.ensemble import GradientBoostingRegressor\n",
    "from sklearn.model_selection import KFold, cross_val_score, GridSearchCV\n",
    "from sklearn.linear_model import LinearRegression, Ridge, Lasso #,ElasticNet, LogisticRegression\n",
    "from sklearn.metrics import make_scorer\n",
    "from sklearn.metrics import accuracy_score\n",
    "from sklearn.model_selection import train_test_split\n",
    "\n",
    "# Deep Neural Network\n",
    "from keras.layers.core import Dense, Activation, Dropout\n",
    "from keras.layers.recurrent import LSTM\n",
    "from keras.models import Sequential\n",
    "import time\n",
    "\n",
    "# 설정\n",
    "%matplotlib inline\n",
    "pd.options.display.max_columns = 400\n",
    "pd.options.display.float_format = '{:.5f}'.format\n",
    "from IPython.display import Image\n",
    "plt.rc('font', family='NanumGothic') # For Windows\n"
   ]
  },
  {
   "cell_type": "code",
   "execution_count": 17,
   "metadata": {
    "executionInfo": {
     "elapsed": 2,
     "status": "ok",
     "timestamp": 1640931512535,
     "user": {
      "displayName": "서명교",
      "photoUrl": "https://lh3.googleusercontent.com/a/default-user=s64",
      "userId": "11730583039526359700"
     },
     "user_tz": -540
    },
    "id": "KPDE2bdb8w0Y"
   },
   "outputs": [],
   "source": [
    "from tqdm import tqdm\n",
    "from dateutil.relativedelta import relativedelta"
   ]
  },
  {
   "cell_type": "markdown",
   "metadata": {
    "id": "fKBPnVpmwaSn"
   },
   "source": [
    "EAE"
   ]
  },
  {
   "cell_type": "code",
   "execution_count": 18,
   "metadata": {
    "colab": {
     "base_uri": "https://localhost:8080/"
    },
    "executionInfo": {
     "elapsed": 4,
     "status": "ok",
     "timestamp": 1640931514319,
     "user": {
      "displayName": "서명교",
      "photoUrl": "https://lh3.googleusercontent.com/a/default-user=s64",
      "userId": "11730583039526359700"
     },
     "user_tz": -540
    },
    "id": "u8aaM7CvwcTm",
    "outputId": "545ce975-17c4-4490-93e2-75e208bbb79e"
   },
   "outputs": [
    {
     "data": {
      "text/plain": [
       "make_scorer(mae)"
      ]
     },
     "execution_count": 18,
     "metadata": {},
     "output_type": "execute_result"
    }
   ],
   "source": [
    "def mae(prediction, correct):\n",
    "    score = abs(np.array(correct) - np.array(prediction)).mean()\n",
    "    return score\n",
    "\n",
    "mae_scorer = make_scorer(mae)\n",
    "mae_scorer"
   ]
  },
  {
   "cell_type": "markdown",
   "metadata": {
    "id": "rv5nuEl8wcgp"
   },
   "source": [
    "RMSE 평균 제곱근 오차\n",
    "\n",
    "\n"
   ]
  },
  {
   "cell_type": "code",
   "execution_count": 19,
   "metadata": {
    "executionInfo": {
     "elapsed": 282,
     "status": "ok",
     "timestamp": 1640931517023,
     "user": {
      "displayName": "서명교",
      "photoUrl": "https://lh3.googleusercontent.com/a/default-user=s64",
      "userId": "11730583039526359700"
     },
     "user_tz": -540
    },
    "id": "UpBqOsPTwco8"
   },
   "outputs": [],
   "source": [
    "def rmse(prediction, correct):\n",
    "    return math.sqrt((np.array(correct) - np.array(prediction) ** 2).mean())"
   ]
  },
  {
   "cell_type": "markdown",
   "metadata": {
    "id": "KLvmn8fpwcvV"
   },
   "source": [
    "## 데이터 넣기"
   ]
  },
  {
   "cell_type": "code",
   "execution_count": 21,
   "metadata": {
    "executionInfo": {
     "elapsed": 10616,
     "status": "ok",
     "timestamp": 1640931536599,
     "user": {
      "displayName": "서명교",
      "photoUrl": "https://lh3.googleusercontent.com/a/default-user=s64",
      "userId": "11730583039526359700"
     },
     "user_tz": -540
    },
    "id": "EjObf11lygye"
   },
   "outputs": [],
   "source": [
    "df_train = pd.read_csv('./datasets/funda_train.csv')\n",
    "df_sub = pd.read_csv('./datasets/submission.csv')"
   ]
  },
  {
   "cell_type": "code",
   "execution_count": 22,
   "metadata": {
    "colab": {
     "base_uri": "https://localhost:8080/"
    },
    "executionInfo": {
     "elapsed": 264,
     "status": "ok",
     "timestamp": 1640931544865,
     "user": {
      "displayName": "서명교",
      "photoUrl": "https://lh3.googleusercontent.com/a/default-user=s64",
      "userId": "11730583039526359700"
     },
     "user_tz": -540
    },
    "id": "Pl0EI9efyg6H",
    "outputId": "8f46c36d-6991-4599-f5b8-acfba76774eb"
   },
   "outputs": [
    {
     "data": {
      "text/plain": [
       "((6556613, 9), (1967, 2))"
      ]
     },
     "execution_count": 22,
     "metadata": {},
     "output_type": "execute_result"
    }
   ],
   "source": [
    "df_train.shape, df_sub.shape"
   ]
  },
  {
   "cell_type": "code",
   "execution_count": 23,
   "metadata": {
    "executionInfo": {
     "elapsed": 1128,
     "status": "ok",
     "timestamp": 1640931549137,
     "user": {
      "displayName": "서명교",
      "photoUrl": "https://lh3.googleusercontent.com/a/default-user=s64",
      "userId": "11730583039526359700"
     },
     "user_tz": -540
    },
    "id": "oddiGSqxyvwy"
   },
   "outputs": [],
   "source": [
    "df_train['transacted_date'] = pd.to_datetime(df_train['transacted_date'])"
   ]
  },
  {
   "cell_type": "code",
   "execution_count": 24,
   "metadata": {
    "id": "ZQKkCqczUDSp"
   },
   "outputs": [],
   "source": [
    "#환불데이터\n",
    "df_train.insert(6,'refund',0)\n",
    "df_train.loc[df_train.amount < 0 ,'refund']= 1"
   ]
  },
  {
   "cell_type": "markdown",
   "metadata": {
    "id": "7kRsqO7kVDEN"
   },
   "source": [
    "데이터 삭제 region,type_of_business"
   ]
  },
  {
   "cell_type": "code",
   "execution_count": 25,
   "metadata": {
    "id": "pokLfaJaVDdV"
   },
   "outputs": [],
   "source": [
    "df_train.drop(['region','type_of_business', 'transacted_time'], axis =1, inplace=True)"
   ]
  },
  {
   "cell_type": "markdown",
   "metadata": {
    "id": "nGp-JRfqUe2y"
   },
   "source": [
    "레이블 인코딩"
   ]
  },
  {
   "cell_type": "code",
   "execution_count": 26,
   "metadata": {
    "id": "U5H8-QrTUdra"
   },
   "outputs": [],
   "source": [
    "from sklearn.preprocessing import LabelEncoder"
   ]
  },
  {
   "cell_type": "code",
   "execution_count": 27,
   "metadata": {
    "colab": {
     "base_uri": "https://localhost:8080/"
    },
    "executionInfo": {
     "elapsed": 1613,
     "status": "ok",
     "timestamp": 1640827889072,
     "user": {
      "displayName": "서명교",
      "photoUrl": "https://lh3.googleusercontent.com/a/default-user=s64",
      "userId": "11730583039526359700"
     },
     "user_tz": -540
    },
    "id": "BUqW2Wm0X8aF",
    "outputId": "d97b7b6a-254f-4f9d-e031-54664102e183"
   },
   "outputs": [
    {
     "data": {
      "text/plain": [
       "array([1, 7, 2, ..., 0, 3, 2])"
      ]
     },
     "execution_count": 27,
     "metadata": {},
     "output_type": "execute_result"
    }
   ],
   "source": [
    "class_le = LabelEncoder()\n",
    "df_train_e = class_le.fit_transform(df_train['card_company'].values)\n",
    "df_train_e"
   ]
  },
  {
   "cell_type": "code",
   "execution_count": 28,
   "metadata": {
    "id": "tcFIwJCGYZ2L"
   },
   "outputs": [],
   "source": [
    "df_train['card_company'] = df_train_e"
   ]
  },
  {
   "cell_type": "code",
   "execution_count": 29,
   "metadata": {
    "colab": {
     "base_uri": "https://localhost:8080/"
    },
    "executionInfo": {
     "elapsed": 6,
     "status": "ok",
     "timestamp": 1640827889073,
     "user": {
      "displayName": "서명교",
      "photoUrl": "https://lh3.googleusercontent.com/a/default-user=s64",
      "userId": "11730583039526359700"
     },
     "user_tz": -540
    },
    "id": "CRw0FSOZZZkk",
    "outputId": "e14556b1-858d-464a-e33c-bf331e8f7211"
   },
   "outputs": [
    {
     "name": "stdout",
     "output_type": "stream",
     "text": [
      "<class 'pandas.core.frame.DataFrame'>\n",
      "RangeIndex: 6556613 entries, 0 to 6556612\n",
      "Data columns (total 7 columns):\n",
      " #   Column            Dtype         \n",
      "---  ------            -----         \n",
      " 0   store_id          int64         \n",
      " 1   card_id           int64         \n",
      " 2   card_company      int64         \n",
      " 3   transacted_date   datetime64[ns]\n",
      " 4   installment_term  int64         \n",
      " 5   refund            int64         \n",
      " 6   amount            float64       \n",
      "dtypes: datetime64[ns](1), float64(1), int64(5)\n",
      "memory usage: 350.2 MB\n"
     ]
    }
   ],
   "source": [
    "df_train.info()"
   ]
  },
  {
   "cell_type": "markdown",
   "metadata": {
    "id": "9NDq8FIm8Kbp"
   },
   "source": [
    "## 환불 데이터 노이즈 제거거"
   ]
  },
  {
   "cell_type": "code",
   "execution_count": 30,
   "metadata": {
    "id": "peucZF2X8Nzr"
   },
   "outputs": [],
   "source": [
    "def refund_remove(df):\n",
    "    refund=df[df['amount']<0]\n",
    "    non_refund=df[df['amount']>0]\n",
    "    remove_data=pd.DataFrame()\n",
    "    \n",
    "    for i in tqdm(df.store_id.unique()):\n",
    "        divided_data=non_refund[non_refund['store_id']==i] ##non_refund 스토어 데이터를 스토어별로 나눔\n",
    "        divided_data2=refund[refund['store_id']==i] ##refund 스토어 데이터를 나눔 스토어별로 나눔\n",
    "        \n",
    "        for neg in divided_data2.to_records()[:]: ##환불데이터를 차례대로 검사\n",
    "            refund_store=neg['store_id']\n",
    "            refund_id=neg['card_id'] ## 환불 카드 아이디\n",
    "            refund_datetime=neg['transacted_date'] ## 환불 시간\n",
    "            refund_amount=abs(neg['amount']) ## 환불액 절대값을 씌움\n",
    "                \n",
    "            ##환불시간 이전의 데이터중 카드이이디와 환불액이 같은 후보 리스트를 뽑는다.\n",
    "            refund_pay_list=divided_data[divided_data['transacted_date']<=refund_datetime]\n",
    "            refund_pay_list=refund_pay_list[refund_pay_list['card_id']==refund_id]\n",
    "            refund_pay_list=refund_pay_list[refund_pay_list['amount']==refund_amount]\n",
    "                \n",
    "                \n",
    "            #후보리스트가 있으면,카드아이디, 환불액이 같으면서 가장 최근시간을 제거\n",
    "            if(len(refund_pay_list)!=0):\n",
    "                refund_datetime=max(refund_pay_list['transacted_date']) ##가장 최근 시간을 구한다\n",
    "                remove=divided_data[divided_data['transacted_date']==refund_datetime] ##가장 최근시간\n",
    "                remove=remove[remove['card_id']==refund_id] ##환불 카드 아이디\n",
    "                remove=remove[remove['amount']==refund_amount] ##환불액\n",
    "                divided_data=divided_data.drop(index=remove.index) #인덱스를 통해 제거\n",
    "                    \n",
    "        ##제거한데이터를 데이터프레임에 추가한다.\n",
    "        remove_data=pd.concat([remove_data,divided_data],axis=0)\n",
    "    \n",
    "    return remove_data"
   ]
  },
  {
   "cell_type": "code",
   "execution_count": 31,
   "metadata": {
    "colab": {
     "base_uri": "https://localhost:8080/"
    },
    "executionInfo": {
     "elapsed": 817004,
     "status": "ok",
     "timestamp": 1640828710665,
     "user": {
      "displayName": "서명교",
      "photoUrl": "https://lh3.googleusercontent.com/a/default-user=s64",
      "userId": "11730583039526359700"
     },
     "user_tz": -540
    },
    "id": "TGOoy1Xk8PPe",
    "outputId": "e221daa3-e344-4b49-a7ee-af81a4bab8e8"
   },
   "outputs": [
    {
     "name": "stderr",
     "output_type": "stream",
     "text": [
      " 10%|▉         | 195/1967 [00:25<04:34,  6.47it/s]"
     ]
    }
   ],
   "source": [
    "df_train = refund_remove(df_train)"
   ]
  },
  {
   "cell_type": "code",
   "execution_count": null,
   "metadata": {
    "id": "qgVAmHPS9-sj"
   },
   "outputs": [],
   "source": [
    "df_train.to_csv(\"./datasets/funda_train_remove_refund.csv\", index=False)"
   ]
  },
  {
   "cell_type": "code",
   "execution_count": null,
   "metadata": {
    "colab": {
     "base_uri": "https://localhost:8080/",
     "height": 206
    },
    "executionInfo": {
     "elapsed": 268,
     "status": "ok",
     "timestamp": 1640829680350,
     "user": {
      "displayName": "서명교",
      "photoUrl": "https://lh3.googleusercontent.com/a/default-user=s64",
      "userId": "11730583039526359700"
     },
     "user_tz": -540
    },
    "id": "g0PjYA7YEZLl",
    "outputId": "68ccdf4f-36db-4dab-d879-cf79ee57502b"
   },
   "outputs": [],
   "source": [
    "df_train.head()"
   ]
  },
  {
   "cell_type": "code",
   "execution_count": null,
   "metadata": {
    "id": "KgqAQWAwEVJD"
   },
   "outputs": [],
   "source": [
    "df_train = pd.read_csv('./datasets/funda_train_remove_refund.csv')"
   ]
  },
  {
   "cell_type": "code",
   "execution_count": null,
   "metadata": {
    "id": "EU56oBoZSLQg"
   },
   "outputs": [],
   "source": [
    "df_train['transacted_date'] = pd.to_datetime(df_train['transacted_date'])\n",
    "df_train = df_train.set_index('transacted_date')"
   ]
  },
  {
   "cell_type": "code",
   "execution_count": null,
   "metadata": {
    "colab": {
     "base_uri": "https://localhost:8080/",
     "height": 237
    },
    "executionInfo": {
     "elapsed": 353,
     "status": "ok",
     "timestamp": 1640837429167,
     "user": {
      "displayName": "서명교",
      "photoUrl": "https://lh3.googleusercontent.com/a/default-user=s64",
      "userId": "11730583039526359700"
     },
     "user_tz": -540
    },
    "id": "Q-S4USFIEc-F",
    "outputId": "e1d882ed-827f-4d41-d781-179de9012848"
   },
   "outputs": [
    {
     "data": {
      "text/html": [
       "\n",
       "  <div id=\"df-13740f75-978d-4874-96b7-42cebf48c4cb\">\n",
       "    <div class=\"colab-df-container\">\n",
       "      <div>\n",
       "<style scoped>\n",
       "    .dataframe tbody tr th:only-of-type {\n",
       "        vertical-align: middle;\n",
       "    }\n",
       "\n",
       "    .dataframe tbody tr th {\n",
       "        vertical-align: top;\n",
       "    }\n",
       "\n",
       "    .dataframe thead th {\n",
       "        text-align: right;\n",
       "    }\n",
       "</style>\n",
       "<table border=\"1\" class=\"dataframe\">\n",
       "  <thead>\n",
       "    <tr style=\"text-align: right;\">\n",
       "      <th></th>\n",
       "      <th>store_id</th>\n",
       "      <th>card_id</th>\n",
       "      <th>card_company</th>\n",
       "      <th>installment_term</th>\n",
       "      <th>refund</th>\n",
       "      <th>amount</th>\n",
       "    </tr>\n",
       "    <tr>\n",
       "      <th>transacted_date</th>\n",
       "      <th></th>\n",
       "      <th></th>\n",
       "      <th></th>\n",
       "      <th></th>\n",
       "      <th></th>\n",
       "      <th></th>\n",
       "    </tr>\n",
       "  </thead>\n",
       "  <tbody>\n",
       "    <tr>\n",
       "      <th>2016-06-01</th>\n",
       "      <td>0</td>\n",
       "      <td>0</td>\n",
       "      <td>1</td>\n",
       "      <td>0</td>\n",
       "      <td>0</td>\n",
       "      <td>1857.14286</td>\n",
       "    </tr>\n",
       "    <tr>\n",
       "      <th>2016-06-01</th>\n",
       "      <td>0</td>\n",
       "      <td>1</td>\n",
       "      <td>7</td>\n",
       "      <td>0</td>\n",
       "      <td>0</td>\n",
       "      <td>857.14286</td>\n",
       "    </tr>\n",
       "    <tr>\n",
       "      <th>2016-06-01</th>\n",
       "      <td>0</td>\n",
       "      <td>2</td>\n",
       "      <td>2</td>\n",
       "      <td>0</td>\n",
       "      <td>0</td>\n",
       "      <td>2000.00000</td>\n",
       "    </tr>\n",
       "    <tr>\n",
       "      <th>2016-06-01</th>\n",
       "      <td>0</td>\n",
       "      <td>3</td>\n",
       "      <td>0</td>\n",
       "      <td>0</td>\n",
       "      <td>0</td>\n",
       "      <td>7857.14286</td>\n",
       "    </tr>\n",
       "    <tr>\n",
       "      <th>2016-06-02</th>\n",
       "      <td>0</td>\n",
       "      <td>4</td>\n",
       "      <td>2</td>\n",
       "      <td>0</td>\n",
       "      <td>0</td>\n",
       "      <td>2000.00000</td>\n",
       "    </tr>\n",
       "  </tbody>\n",
       "</table>\n",
       "</div>\n",
       "      <button class=\"colab-df-convert\" onclick=\"convertToInteractive('df-13740f75-978d-4874-96b7-42cebf48c4cb')\"\n",
       "              title=\"Convert this dataframe to an interactive table.\"\n",
       "              style=\"display:none;\">\n",
       "        \n",
       "  <svg xmlns=\"http://www.w3.org/2000/svg\" height=\"24px\"viewBox=\"0 0 24 24\"\n",
       "       width=\"24px\">\n",
       "    <path d=\"M0 0h24v24H0V0z\" fill=\"none\"/>\n",
       "    <path d=\"M18.56 5.44l.94 2.06.94-2.06 2.06-.94-2.06-.94-.94-2.06-.94 2.06-2.06.94zm-11 1L8.5 8.5l.94-2.06 2.06-.94-2.06-.94L8.5 2.5l-.94 2.06-2.06.94zm10 10l.94 2.06.94-2.06 2.06-.94-2.06-.94-.94-2.06-.94 2.06-2.06.94z\"/><path d=\"M17.41 7.96l-1.37-1.37c-.4-.4-.92-.59-1.43-.59-.52 0-1.04.2-1.43.59L10.3 9.45l-7.72 7.72c-.78.78-.78 2.05 0 2.83L4 21.41c.39.39.9.59 1.41.59.51 0 1.02-.2 1.41-.59l7.78-7.78 2.81-2.81c.8-.78.8-2.07 0-2.86zM5.41 20L4 18.59l7.72-7.72 1.47 1.35L5.41 20z\"/>\n",
       "  </svg>\n",
       "      </button>\n",
       "      \n",
       "  <style>\n",
       "    .colab-df-container {\n",
       "      display:flex;\n",
       "      flex-wrap:wrap;\n",
       "      gap: 12px;\n",
       "    }\n",
       "\n",
       "    .colab-df-convert {\n",
       "      background-color: #E8F0FE;\n",
       "      border: none;\n",
       "      border-radius: 50%;\n",
       "      cursor: pointer;\n",
       "      display: none;\n",
       "      fill: #1967D2;\n",
       "      height: 32px;\n",
       "      padding: 0 0 0 0;\n",
       "      width: 32px;\n",
       "    }\n",
       "\n",
       "    .colab-df-convert:hover {\n",
       "      background-color: #E2EBFA;\n",
       "      box-shadow: 0px 1px 2px rgba(60, 64, 67, 0.3), 0px 1px 3px 1px rgba(60, 64, 67, 0.15);\n",
       "      fill: #174EA6;\n",
       "    }\n",
       "\n",
       "    [theme=dark] .colab-df-convert {\n",
       "      background-color: #3B4455;\n",
       "      fill: #D2E3FC;\n",
       "    }\n",
       "\n",
       "    [theme=dark] .colab-df-convert:hover {\n",
       "      background-color: #434B5C;\n",
       "      box-shadow: 0px 1px 3px 1px rgba(0, 0, 0, 0.15);\n",
       "      filter: drop-shadow(0px 1px 2px rgba(0, 0, 0, 0.3));\n",
       "      fill: #FFFFFF;\n",
       "    }\n",
       "  </style>\n",
       "\n",
       "      <script>\n",
       "        const buttonEl =\n",
       "          document.querySelector('#df-13740f75-978d-4874-96b7-42cebf48c4cb button.colab-df-convert');\n",
       "        buttonEl.style.display =\n",
       "          google.colab.kernel.accessAllowed ? 'block' : 'none';\n",
       "\n",
       "        async function convertToInteractive(key) {\n",
       "          const element = document.querySelector('#df-13740f75-978d-4874-96b7-42cebf48c4cb');\n",
       "          const dataTable =\n",
       "            await google.colab.kernel.invokeFunction('convertToInteractive',\n",
       "                                                     [key], {});\n",
       "          if (!dataTable) return;\n",
       "\n",
       "          const docLinkHtml = 'Like what you see? Visit the ' +\n",
       "            '<a target=\"_blank\" href=https://colab.research.google.com/notebooks/data_table.ipynb>data table notebook</a>'\n",
       "            + ' to learn more about interactive tables.';\n",
       "          element.innerHTML = '';\n",
       "          dataTable['output_type'] = 'display_data';\n",
       "          await google.colab.output.renderOutput(dataTable, element);\n",
       "          const docLink = document.createElement('div');\n",
       "          docLink.innerHTML = docLinkHtml;\n",
       "          element.appendChild(docLink);\n",
       "        }\n",
       "      </script>\n",
       "    </div>\n",
       "  </div>\n",
       "  "
      ],
      "text/plain": [
       "                 store_id  card_id  card_company  installment_term  refund  \\\n",
       "transacted_date                                                              \n",
       "2016-06-01              0        0             1                 0       0   \n",
       "2016-06-01              0        1             7                 0       0   \n",
       "2016-06-01              0        2             2                 0       0   \n",
       "2016-06-01              0        3             0                 0       0   \n",
       "2016-06-02              0        4             2                 0       0   \n",
       "\n",
       "                    amount  \n",
       "transacted_date             \n",
       "2016-06-01      1857.14286  \n",
       "2016-06-01       857.14286  \n",
       "2016-06-01      2000.00000  \n",
       "2016-06-01      7857.14286  \n",
       "2016-06-02      2000.00000  "
      ]
     },
     "execution_count": 10,
     "metadata": {},
     "output_type": "execute_result"
    }
   ],
   "source": [
    "df_train.head()"
   ]
  },
  {
   "cell_type": "markdown",
   "metadata": {
    "id": "w_euVcloQ4lI"
   },
   "source": [
    "## 일 데이터로 축소"
   ]
  },
  {
   "cell_type": "code",
   "execution_count": null,
   "metadata": {
    "id": "tr1nV7nfQ5JS"
   },
   "outputs": [],
   "source": [
    "def resample_day(train_df):\n",
    "    df_day = pd.DataFrame()\n",
    "    \n",
    "    for i in train_df['store_id'].unique():\n",
    "        df_num = train_df[train_df['store_id']==i]\n",
    "\n",
    "        # 'card_id'의 일별 counting을 통해 일 거래 횟수 확인\n",
    "        # resample 함수의 rule='d'인 경우 일별 그룹이 가능해지고, count 함수를 통해 unique 값별로 빈도수 생성\n",
    "        count_cols = df_num['card_id'].resample(rule='d').count().rename('num_of_pay')\n",
    "        \n",
    "        # 'card_id' value count가 2보다 크면 단골로 판단하고 단골 방문 횟수 확인\n",
    "        revisit_idx = df_num['card_id'].value_counts().reset_index().query('card_id > 2')['index'].values\n",
    "        revisit_ct = df_num[df_num['card_id'].isin(revisit_idx)]['card_id'].resample(rule='d').count().rename('num_of_revisit')\n",
    "        \n",
    "\n",
    "        # 할부 개월수와 매출액은 일단위로 합\n",
    "        sum_cols = df_num[[ 'refund', 'installment_term',  'amount']].resample(rule='d').sum()\n",
    "        \n",
    "        df_num_day = pd.concat([count_cols, revisit_ct, sum_cols], axis=1)\n",
    "        \n",
    "        # 매장 id, 지역, 업종 분류 추가\n",
    "        df_num_day.insert(0, 'store_id', i)\n",
    "        # df_num_day.insert(4, 'region', df_num[df_num['store_id']==i]['region'].unique()[0])\n",
    "        # df_num_day.insert(5, 'type_of_business', df_num[df_num['store_id']==i]['type_of_business'].unique()[0])\n",
    "        \n",
    "        df_day = pd.concat([df_day, df_num_day], axis=0)\n",
    "        \n",
    "    df_day.insert(1, 'day_of_week', df_day.index.dayofweek) #df_day가 일별로 묶여index에 들어가 있음\n",
    "    df_day.insert(2, 'business_day', df_day['day_of_week'].replace({0:1, 2:1, 3:1, 4:1, 5:0, 6:0}).values)\n",
    "    df_day['num_of_revisit'].fillna(0, inplace=True)\n",
    "    \n",
    "        \n",
    "    return df_day\n",
    "def resample_month(frame_day):\n",
    "    sum_cols = ['num_of_pay', 'num_of_revisit', 'refund', 'installment_term', 'amount']\n",
    "\n",
    "    df_monthly = pd.DataFrame()\n",
    "\n",
    "    for i in frame_day.store_id.unique():\n",
    "        df_set = frame_day[frame_day.store_id == i]\n",
    "        \n",
    "        # nan값이 발생하는 경우를 없애기 위해 이전, 이후 달에 대한 정보를 추가한 후 제거\n",
    "        prev_date = pd.date_range(start=(df_set.index[0] - relativedelta(months=1)), end=(df_set.index[0] - relativedelta(months=1)))\n",
    "        add_date = pd.date_range(start=(df_set.index[-1] + relativedelta(months=1)), end=(df_set.index[-1] + relativedelta(months=1)))\n",
    "        df_set = pd.concat([pd.DataFrame(index=prev_date), df_set, pd.DataFrame(index=add_date)], axis=0)\n",
    "\n",
    "        df_set.loc[dt.strftime(df_set.index[0], '%Y-%m'), :] = 1\n",
    "        df_set.loc[dt.strftime(df_set.index[-1], '%Y-%m'), :] = 1\n",
    "\n",
    "        tot_day = df_set[df_set.amount != 0].day_of_week.resample(rule='m').count().rename('real_tot_day')\n",
    "        business = df_set[df_set.amount != 0].business_day.resample(rule='m').sum().rename('real_business_day')\n",
    "\n",
    "        business = business.drop([business.index[0], business.index[-1]], axis=0)\n",
    "        tot_day = tot_day.drop([tot_day.index[0], tot_day.index[-1]], axis=0)\n",
    "        df_set = df_set.drop([df_set.index[0], df_set.index[-1]], axis=0)\n",
    "\n",
    "        df = pd.concat([tot_day, business, df_set[sum_cols].resample(rule='m').sum()], axis=1)\n",
    "\n",
    "        df.insert(0, 'store_id', i)\n",
    "        # df.insert(6, 'region', df_set.region.values[0])\n",
    "        # df.insert(7, 'type_of_business', df_set.type_of_business.values[0])\n",
    "\n",
    "        df_monthly = pd.concat([df_monthly, df], axis=0)\n",
    "   \n",
    "    return df_monthly"
   ]
  },
  {
   "cell_type": "code",
   "execution_count": null,
   "metadata": {
    "colab": {
     "base_uri": "https://localhost:8080/"
    },
    "executionInfo": {
     "elapsed": 208045,
     "status": "ok",
     "timestamp": 1640831015028,
     "user": {
      "displayName": "서명교",
      "photoUrl": "https://lh3.googleusercontent.com/a/default-user=s64",
      "userId": "11730583039526359700"
     },
     "user_tz": -540
    },
    "id": "LF7B5UucRYTa",
    "outputId": "456690c5-1562-4463-aa4b-84ba0e77ab8a"
   },
   "outputs": [
    {
     "name": "stdout",
     "output_type": "stream",
     "text": [
      "CPU times: user 3min 27s, sys: 10.4 s, total: 3min 37s\n",
      "Wall time: 3min 28s\n"
     ]
    }
   ],
   "source": [
    "%%time\n",
    "df_day = resample_day(df_train)"
   ]
  },
  {
   "cell_type": "code",
   "execution_count": null,
   "metadata": {
    "colab": {
     "base_uri": "https://localhost:8080/"
    },
    "executionInfo": {
     "elapsed": 56352,
     "status": "ok",
     "timestamp": 1640831071375,
     "user": {
      "displayName": "서명교",
      "photoUrl": "https://lh3.googleusercontent.com/a/default-user=s64",
      "userId": "11730583039526359700"
     },
     "user_tz": -540
    },
    "id": "IJfEq9epkUH6",
    "outputId": "da4162c3-5baa-41b8-bed0-7fc1dd81ef4a"
   },
   "outputs": [
    {
     "name": "stdout",
     "output_type": "stream",
     "text": [
      "CPU times: user 59 s, sys: 832 ms, total: 59.8 s\n",
      "Wall time: 56.2 s\n"
     ]
    }
   ],
   "source": [
    "%%time\n",
    "df_month = resample_month(df_day)"
   ]
  },
  {
   "cell_type": "code",
   "execution_count": null,
   "metadata": {
    "colab": {
     "base_uri": "https://localhost:8080/"
    },
    "executionInfo": {
     "elapsed": 263,
     "status": "ok",
     "timestamp": 1640831084709,
     "user": {
      "displayName": "서명교",
      "photoUrl": "https://lh3.googleusercontent.com/a/default-user=s64",
      "userId": "11730583039526359700"
     },
     "user_tz": -540
    },
    "id": "_sef8yLxRdNH",
    "outputId": "eccc0fd1-e7a6-4192-a918-5e8fdce9c87c"
   },
   "outputs": [
    {
     "data": {
      "text/plain": [
       "store_id            0\n",
       "day_of_week         0\n",
       "business_day        0\n",
       "num_of_pay          0\n",
       "num_of_revisit      0\n",
       "refund              0\n",
       "installment_term    0\n",
       "amount              0\n",
       "dtype: int64"
      ]
     },
     "execution_count": 73,
     "metadata": {},
     "output_type": "execute_result"
    }
   ],
   "source": [
    "df_day.isnull().sum()"
   ]
  },
  {
   "cell_type": "code",
   "execution_count": null,
   "metadata": {
    "colab": {
     "base_uri": "https://localhost:8080/"
    },
    "executionInfo": {
     "elapsed": 342,
     "status": "ok",
     "timestamp": 1640831086581,
     "user": {
      "displayName": "서명교",
      "photoUrl": "https://lh3.googleusercontent.com/a/default-user=s64",
      "userId": "11730583039526359700"
     },
     "user_tz": -540
    },
    "id": "T-y5plMaVFT0",
    "outputId": "eb163a7a-2aa0-493c-a079-e16bff872be2"
   },
   "outputs": [
    {
     "name": "stdout",
     "output_type": "stream",
     "text": [
      "<class 'pandas.core.frame.DataFrame'>\n",
      "DatetimeIndex: 1837015 entries, 2016-06-01 to 2019-02-28\n",
      "Data columns (total 8 columns):\n",
      " #   Column            Dtype  \n",
      "---  ------            -----  \n",
      " 0   store_id          int64  \n",
      " 1   day_of_week       int64  \n",
      " 2   business_day      int64  \n",
      " 3   num_of_pay        int64  \n",
      " 4   num_of_revisit    float64\n",
      " 5   refund            int64  \n",
      " 6   installment_term  int64  \n",
      " 7   amount            float64\n",
      "dtypes: float64(2), int64(6)\n",
      "memory usage: 126.1 MB\n"
     ]
    }
   ],
   "source": [
    "df_day.info()"
   ]
  },
  {
   "cell_type": "code",
   "execution_count": null,
   "metadata": {
    "colab": {
     "base_uri": "https://localhost:8080/",
     "height": 192
    },
    "executionInfo": {
     "elapsed": 6,
     "status": "error",
     "timestamp": 1640877065733,
     "user": {
      "displayName": "서명교",
      "photoUrl": "https://lh3.googleusercontent.com/a/default-user=s64",
      "userId": "11730583039526359700"
     },
     "user_tz": -540
    },
    "id": "xFVNwzryHxhq",
    "outputId": "dd3c4914-2041-4551-83c6-53ad81935c23"
   },
   "outputs": [
    {
     "ename": "NameError",
     "evalue": "ignored",
     "output_type": "error",
     "traceback": [
      "\u001b[0;31m---------------------------------------------------------------------------\u001b[0m",
      "\u001b[0;31mNameError\u001b[0m                                 Traceback (most recent call last)",
      "\u001b[0;32m<ipython-input-2-6c416d5f9a5f>\u001b[0m in \u001b[0;36m<module>\u001b[0;34m()\u001b[0m\n\u001b[1;32m      1\u001b[0m \u001b[0;31m#df_month 저장\u001b[0m\u001b[0;34m\u001b[0m\u001b[0;34m\u001b[0m\u001b[0;34m\u001b[0m\u001b[0m\n\u001b[0;32m----> 2\u001b[0;31m \u001b[0mdf_month\u001b[0m\u001b[0;34m.\u001b[0m\u001b[0mto_csv\u001b[0m\u001b[0;34m(\u001b[0m\u001b[0;34m\"/content/drive/MyDrive/해커톤/funda_train_month.csv\"\u001b[0m\u001b[0;34m,\u001b[0m \u001b[0mindex\u001b[0m\u001b[0;34m=\u001b[0m\u001b[0;32mTrue\u001b[0m\u001b[0;34m)\u001b[0m\u001b[0;34m\u001b[0m\u001b[0;34m\u001b[0m\u001b[0m\n\u001b[0m",
      "\u001b[0;31mNameError\u001b[0m: name 'df_month' is not defined"
     ]
    }
   ],
   "source": [
    "#df_month 저장\n",
    "df_month.to_csv(\"/content/drive/MyDrive/해커톤/funda_train_month.csv\", index=True)"
   ]
  },
  {
   "cell_type": "code",
   "execution_count": null,
   "metadata": {
    "colab": {
     "base_uri": "https://localhost:8080/",
     "height": 423
    },
    "executionInfo": {
     "elapsed": 271,
     "status": "ok",
     "timestamp": 1640831113259,
     "user": {
      "displayName": "서명교",
      "photoUrl": "https://lh3.googleusercontent.com/a/default-user=s64",
      "userId": "11730583039526359700"
     },
     "user_tz": -540
    },
    "id": "B0KYpyUXISjy",
    "outputId": "036214be-d38f-4303-cd52-28ad012500ff"
   },
   "outputs": [
    {
     "data": {
      "text/html": [
       "\n",
       "  <div id=\"df-175cef82-94ff-4769-bff2-6d86079b0369\">\n",
       "    <div class=\"colab-df-container\">\n",
       "      <div>\n",
       "<style scoped>\n",
       "    .dataframe tbody tr th:only-of-type {\n",
       "        vertical-align: middle;\n",
       "    }\n",
       "\n",
       "    .dataframe tbody tr th {\n",
       "        vertical-align: top;\n",
       "    }\n",
       "\n",
       "    .dataframe thead th {\n",
       "        text-align: right;\n",
       "    }\n",
       "</style>\n",
       "<table border=\"1\" class=\"dataframe\">\n",
       "  <thead>\n",
       "    <tr style=\"text-align: right;\">\n",
       "      <th></th>\n",
       "      <th>store_id</th>\n",
       "      <th>real_tot_day</th>\n",
       "      <th>real_business_day</th>\n",
       "      <th>num_of_pay</th>\n",
       "      <th>num_of_revisit</th>\n",
       "      <th>refund</th>\n",
       "      <th>installment_term</th>\n",
       "      <th>amount</th>\n",
       "    </tr>\n",
       "  </thead>\n",
       "  <tbody>\n",
       "    <tr>\n",
       "      <th>2016-06-30</th>\n",
       "      <td>0</td>\n",
       "      <td>25</td>\n",
       "      <td>17.00000</td>\n",
       "      <td>142.00000</td>\n",
       "      <td>74.00000</td>\n",
       "      <td>0.00000</td>\n",
       "      <td>7.00000</td>\n",
       "      <td>738428.57143</td>\n",
       "    </tr>\n",
       "    <tr>\n",
       "      <th>2016-07-31</th>\n",
       "      <td>0</td>\n",
       "      <td>26</td>\n",
       "      <td>16.00000</td>\n",
       "      <td>178.00000</td>\n",
       "      <td>105.00000</td>\n",
       "      <td>0.00000</td>\n",
       "      <td>24.00000</td>\n",
       "      <td>1005000.00000</td>\n",
       "    </tr>\n",
       "    <tr>\n",
       "      <th>2016-08-31</th>\n",
       "      <td>0</td>\n",
       "      <td>24</td>\n",
       "      <td>16.00000</td>\n",
       "      <td>168.00000</td>\n",
       "      <td>94.00000</td>\n",
       "      <td>0.00000</td>\n",
       "      <td>69.00000</td>\n",
       "      <td>869714.28571</td>\n",
       "    </tr>\n",
       "    <tr>\n",
       "      <th>2016-09-30</th>\n",
       "      <td>0</td>\n",
       "      <td>25</td>\n",
       "      <td>19.00000</td>\n",
       "      <td>160.00000</td>\n",
       "      <td>103.00000</td>\n",
       "      <td>0.00000</td>\n",
       "      <td>15.00000</td>\n",
       "      <td>897857.14286</td>\n",
       "    </tr>\n",
       "    <tr>\n",
       "      <th>2016-10-31</th>\n",
       "      <td>0</td>\n",
       "      <td>26</td>\n",
       "      <td>16.00000</td>\n",
       "      <td>165.00000</td>\n",
       "      <td>115.00000</td>\n",
       "      <td>0.00000</td>\n",
       "      <td>9.00000</td>\n",
       "      <td>835428.57143</td>\n",
       "    </tr>\n",
       "    <tr>\n",
       "      <th>...</th>\n",
       "      <td>...</td>\n",
       "      <td>...</td>\n",
       "      <td>...</td>\n",
       "      <td>...</td>\n",
       "      <td>...</td>\n",
       "      <td>...</td>\n",
       "      <td>...</td>\n",
       "      <td>...</td>\n",
       "    </tr>\n",
       "    <tr>\n",
       "      <th>2018-10-31</th>\n",
       "      <td>2136</td>\n",
       "      <td>31</td>\n",
       "      <td>23.00000</td>\n",
       "      <td>332.00000</td>\n",
       "      <td>77.00000</td>\n",
       "      <td>0.00000</td>\n",
       "      <td>0.00000</td>\n",
       "      <td>2012214.28571</td>\n",
       "    </tr>\n",
       "    <tr>\n",
       "      <th>2018-11-30</th>\n",
       "      <td>2136</td>\n",
       "      <td>28</td>\n",
       "      <td>20.00000</td>\n",
       "      <td>347.00000</td>\n",
       "      <td>78.00000</td>\n",
       "      <td>0.00000</td>\n",
       "      <td>0.00000</td>\n",
       "      <td>2127642.85714</td>\n",
       "    </tr>\n",
       "    <tr>\n",
       "      <th>2018-12-31</th>\n",
       "      <td>2136</td>\n",
       "      <td>31</td>\n",
       "      <td>21.00000</td>\n",
       "      <td>396.00000</td>\n",
       "      <td>101.00000</td>\n",
       "      <td>0.00000</td>\n",
       "      <td>0.00000</td>\n",
       "      <td>2411571.42857</td>\n",
       "    </tr>\n",
       "    <tr>\n",
       "      <th>2019-01-31</th>\n",
       "      <td>2136</td>\n",
       "      <td>31</td>\n",
       "      <td>23.00000</td>\n",
       "      <td>294.00000</td>\n",
       "      <td>71.00000</td>\n",
       "      <td>0.00000</td>\n",
       "      <td>3.00000</td>\n",
       "      <td>1867785.71429</td>\n",
       "    </tr>\n",
       "    <tr>\n",
       "      <th>2019-02-28</th>\n",
       "      <td>2136</td>\n",
       "      <td>28</td>\n",
       "      <td>20.00000</td>\n",
       "      <td>365.00000</td>\n",
       "      <td>66.00000</td>\n",
       "      <td>0.00000</td>\n",
       "      <td>0.00000</td>\n",
       "      <td>2221857.14286</td>\n",
       "    </tr>\n",
       "  </tbody>\n",
       "</table>\n",
       "<p>60833 rows × 8 columns</p>\n",
       "</div>\n",
       "      <button class=\"colab-df-convert\" onclick=\"convertToInteractive('df-175cef82-94ff-4769-bff2-6d86079b0369')\"\n",
       "              title=\"Convert this dataframe to an interactive table.\"\n",
       "              style=\"display:none;\">\n",
       "        \n",
       "  <svg xmlns=\"http://www.w3.org/2000/svg\" height=\"24px\"viewBox=\"0 0 24 24\"\n",
       "       width=\"24px\">\n",
       "    <path d=\"M0 0h24v24H0V0z\" fill=\"none\"/>\n",
       "    <path d=\"M18.56 5.44l.94 2.06.94-2.06 2.06-.94-2.06-.94-.94-2.06-.94 2.06-2.06.94zm-11 1L8.5 8.5l.94-2.06 2.06-.94-2.06-.94L8.5 2.5l-.94 2.06-2.06.94zm10 10l.94 2.06.94-2.06 2.06-.94-2.06-.94-.94-2.06-.94 2.06-2.06.94z\"/><path d=\"M17.41 7.96l-1.37-1.37c-.4-.4-.92-.59-1.43-.59-.52 0-1.04.2-1.43.59L10.3 9.45l-7.72 7.72c-.78.78-.78 2.05 0 2.83L4 21.41c.39.39.9.59 1.41.59.51 0 1.02-.2 1.41-.59l7.78-7.78 2.81-2.81c.8-.78.8-2.07 0-2.86zM5.41 20L4 18.59l7.72-7.72 1.47 1.35L5.41 20z\"/>\n",
       "  </svg>\n",
       "      </button>\n",
       "      \n",
       "  <style>\n",
       "    .colab-df-container {\n",
       "      display:flex;\n",
       "      flex-wrap:wrap;\n",
       "      gap: 12px;\n",
       "    }\n",
       "\n",
       "    .colab-df-convert {\n",
       "      background-color: #E8F0FE;\n",
       "      border: none;\n",
       "      border-radius: 50%;\n",
       "      cursor: pointer;\n",
       "      display: none;\n",
       "      fill: #1967D2;\n",
       "      height: 32px;\n",
       "      padding: 0 0 0 0;\n",
       "      width: 32px;\n",
       "    }\n",
       "\n",
       "    .colab-df-convert:hover {\n",
       "      background-color: #E2EBFA;\n",
       "      box-shadow: 0px 1px 2px rgba(60, 64, 67, 0.3), 0px 1px 3px 1px rgba(60, 64, 67, 0.15);\n",
       "      fill: #174EA6;\n",
       "    }\n",
       "\n",
       "    [theme=dark] .colab-df-convert {\n",
       "      background-color: #3B4455;\n",
       "      fill: #D2E3FC;\n",
       "    }\n",
       "\n",
       "    [theme=dark] .colab-df-convert:hover {\n",
       "      background-color: #434B5C;\n",
       "      box-shadow: 0px 1px 3px 1px rgba(0, 0, 0, 0.15);\n",
       "      filter: drop-shadow(0px 1px 2px rgba(0, 0, 0, 0.3));\n",
       "      fill: #FFFFFF;\n",
       "    }\n",
       "  </style>\n",
       "\n",
       "      <script>\n",
       "        const buttonEl =\n",
       "          document.querySelector('#df-175cef82-94ff-4769-bff2-6d86079b0369 button.colab-df-convert');\n",
       "        buttonEl.style.display =\n",
       "          google.colab.kernel.accessAllowed ? 'block' : 'none';\n",
       "\n",
       "        async function convertToInteractive(key) {\n",
       "          const element = document.querySelector('#df-175cef82-94ff-4769-bff2-6d86079b0369');\n",
       "          const dataTable =\n",
       "            await google.colab.kernel.invokeFunction('convertToInteractive',\n",
       "                                                     [key], {});\n",
       "          if (!dataTable) return;\n",
       "\n",
       "          const docLinkHtml = 'Like what you see? Visit the ' +\n",
       "            '<a target=\"_blank\" href=https://colab.research.google.com/notebooks/data_table.ipynb>data table notebook</a>'\n",
       "            + ' to learn more about interactive tables.';\n",
       "          element.innerHTML = '';\n",
       "          dataTable['output_type'] = 'display_data';\n",
       "          await google.colab.output.renderOutput(dataTable, element);\n",
       "          const docLink = document.createElement('div');\n",
       "          docLink.innerHTML = docLinkHtml;\n",
       "          element.appendChild(docLink);\n",
       "        }\n",
       "      </script>\n",
       "    </div>\n",
       "  </div>\n",
       "  "
      ],
      "text/plain": [
       "            store_id  real_tot_day  real_business_day  num_of_pay  \\\n",
       "2016-06-30         0            25           17.00000   142.00000   \n",
       "2016-07-31         0            26           16.00000   178.00000   \n",
       "2016-08-31         0            24           16.00000   168.00000   \n",
       "2016-09-30         0            25           19.00000   160.00000   \n",
       "2016-10-31         0            26           16.00000   165.00000   \n",
       "...              ...           ...                ...         ...   \n",
       "2018-10-31      2136            31           23.00000   332.00000   \n",
       "2018-11-30      2136            28           20.00000   347.00000   \n",
       "2018-12-31      2136            31           21.00000   396.00000   \n",
       "2019-01-31      2136            31           23.00000   294.00000   \n",
       "2019-02-28      2136            28           20.00000   365.00000   \n",
       "\n",
       "            num_of_revisit  refund  installment_term        amount  \n",
       "2016-06-30        74.00000 0.00000           7.00000  738428.57143  \n",
       "2016-07-31       105.00000 0.00000          24.00000 1005000.00000  \n",
       "2016-08-31        94.00000 0.00000          69.00000  869714.28571  \n",
       "2016-09-30       103.00000 0.00000          15.00000  897857.14286  \n",
       "2016-10-31       115.00000 0.00000           9.00000  835428.57143  \n",
       "...                    ...     ...               ...           ...  \n",
       "2018-10-31        77.00000 0.00000           0.00000 2012214.28571  \n",
       "2018-11-30        78.00000 0.00000           0.00000 2127642.85714  \n",
       "2018-12-31       101.00000 0.00000           0.00000 2411571.42857  \n",
       "2019-01-31        71.00000 0.00000           3.00000 1867785.71429  \n",
       "2019-02-28        66.00000 0.00000           0.00000 2221857.14286  \n",
       "\n",
       "[60833 rows x 8 columns]"
      ]
     },
     "execution_count": 76,
     "metadata": {},
     "output_type": "execute_result"
    }
   ],
   "source": [
    "df_month"
   ]
  },
  {
   "cell_type": "markdown",
   "metadata": {
    "id": "Dxn1zrt7ESFw"
   },
   "source": [
    "# 시작~"
   ]
  },
  {
   "cell_type": "code",
   "execution_count": 6,
   "metadata": {
    "executionInfo": {
     "elapsed": 1304,
     "status": "ok",
     "timestamp": 1640930753417,
     "user": {
      "displayName": "서명교",
      "photoUrl": "https://lh3.googleusercontent.com/a/default-user=s64",
      "userId": "11730583039526359700"
     },
     "user_tz": -540
    },
    "id": "JCxvVGTgILcy"
   },
   "outputs": [],
   "source": [
    "#불러오기기\n",
    "df_month = pd.read_csv('/content/drive/MyDrive/해커톤/funda_train_month.csv')"
   ]
  },
  {
   "cell_type": "code",
   "execution_count": 7,
   "metadata": {
    "colab": {
     "base_uri": "https://localhost:8080/"
    },
    "executionInfo": {
     "elapsed": 312,
     "status": "ok",
     "timestamp": 1640930757706,
     "user": {
      "displayName": "서명교",
      "photoUrl": "https://lh3.googleusercontent.com/a/default-user=s64",
      "userId": "11730583039526359700"
     },
     "user_tz": -540
    },
    "id": "E0U9-7B8KX3X",
    "outputId": "43fa6d83-0cdd-4e35-ee71-432333becab5"
   },
   "outputs": [
    {
     "data": {
      "text/plain": [
       "Index(['Unnamed: 0', 'store_id', 'real_tot_day', 'real_business_day',\n",
       "       'num_of_pay', 'num_of_revisit', 'refund', 'installment_term', 'amount'],\n",
       "      dtype='object')"
      ]
     },
     "execution_count": 7,
     "metadata": {},
     "output_type": "execute_result"
    }
   ],
   "source": [
    "df_month.columns"
   ]
  },
  {
   "cell_type": "code",
   "execution_count": 8,
   "metadata": {
    "executionInfo": {
     "elapsed": 2,
     "status": "ok",
     "timestamp": 1640930758964,
     "user": {
      "displayName": "서명교",
      "photoUrl": "https://lh3.googleusercontent.com/a/default-user=s64",
      "userId": "11730583039526359700"
     },
     "user_tz": -540
    },
    "id": "2ZUFOxGcKv2c"
   },
   "outputs": [],
   "source": [
    "df_month.rename(columns = {'Unnamed: 0' : 'transacted_date'}, inplace = True)"
   ]
  },
  {
   "cell_type": "code",
   "execution_count": 9,
   "metadata": {
    "executionInfo": {
     "elapsed": 3,
     "status": "ok",
     "timestamp": 1640930760244,
     "user": {
      "displayName": "서명교",
      "photoUrl": "https://lh3.googleusercontent.com/a/default-user=s64",
      "userId": "11730583039526359700"
     },
     "user_tz": -540
    },
    "id": "SzEjrxJWKHh5"
   },
   "outputs": [],
   "source": [
    "df_month['transacted_date'] = pd.to_datetime(df_month['transacted_date'])\n",
    "df_month = df_month.set_index('transacted_date')"
   ]
  },
  {
   "cell_type": "code",
   "execution_count": 10,
   "metadata": {
    "colab": {
     "base_uri": "https://localhost:8080/",
     "height": 237
    },
    "executionInfo": {
     "elapsed": 5,
     "status": "ok",
     "timestamp": 1640930760516,
     "user": {
      "displayName": "서명교",
      "photoUrl": "https://lh3.googleusercontent.com/a/default-user=s64",
      "userId": "11730583039526359700"
     },
     "user_tz": -540
    },
    "id": "zyOxo5UGIaHf",
    "outputId": "1b0b0bcf-5b94-4ea6-e8c4-7f2d8a25110b"
   },
   "outputs": [
    {
     "data": {
      "text/html": [
       "\n",
       "  <div id=\"df-b284e480-6ab9-43a6-bfe5-aee2f5e3ad23\">\n",
       "    <div class=\"colab-df-container\">\n",
       "      <div>\n",
       "<style scoped>\n",
       "    .dataframe tbody tr th:only-of-type {\n",
       "        vertical-align: middle;\n",
       "    }\n",
       "\n",
       "    .dataframe tbody tr th {\n",
       "        vertical-align: top;\n",
       "    }\n",
       "\n",
       "    .dataframe thead th {\n",
       "        text-align: right;\n",
       "    }\n",
       "</style>\n",
       "<table border=\"1\" class=\"dataframe\">\n",
       "  <thead>\n",
       "    <tr style=\"text-align: right;\">\n",
       "      <th></th>\n",
       "      <th>store_id</th>\n",
       "      <th>real_tot_day</th>\n",
       "      <th>real_business_day</th>\n",
       "      <th>num_of_pay</th>\n",
       "      <th>num_of_revisit</th>\n",
       "      <th>refund</th>\n",
       "      <th>installment_term</th>\n",
       "      <th>amount</th>\n",
       "    </tr>\n",
       "    <tr>\n",
       "      <th>transacted_date</th>\n",
       "      <th></th>\n",
       "      <th></th>\n",
       "      <th></th>\n",
       "      <th></th>\n",
       "      <th></th>\n",
       "      <th></th>\n",
       "      <th></th>\n",
       "      <th></th>\n",
       "    </tr>\n",
       "  </thead>\n",
       "  <tbody>\n",
       "    <tr>\n",
       "      <th>2018-10-31</th>\n",
       "      <td>2136</td>\n",
       "      <td>31</td>\n",
       "      <td>23.00000</td>\n",
       "      <td>332.00000</td>\n",
       "      <td>77.00000</td>\n",
       "      <td>0.00000</td>\n",
       "      <td>0.00000</td>\n",
       "      <td>2012214.28571</td>\n",
       "    </tr>\n",
       "    <tr>\n",
       "      <th>2018-11-30</th>\n",
       "      <td>2136</td>\n",
       "      <td>28</td>\n",
       "      <td>20.00000</td>\n",
       "      <td>347.00000</td>\n",
       "      <td>78.00000</td>\n",
       "      <td>0.00000</td>\n",
       "      <td>0.00000</td>\n",
       "      <td>2127642.85714</td>\n",
       "    </tr>\n",
       "    <tr>\n",
       "      <th>2018-12-31</th>\n",
       "      <td>2136</td>\n",
       "      <td>31</td>\n",
       "      <td>21.00000</td>\n",
       "      <td>396.00000</td>\n",
       "      <td>101.00000</td>\n",
       "      <td>0.00000</td>\n",
       "      <td>0.00000</td>\n",
       "      <td>2411571.42857</td>\n",
       "    </tr>\n",
       "    <tr>\n",
       "      <th>2019-01-31</th>\n",
       "      <td>2136</td>\n",
       "      <td>31</td>\n",
       "      <td>23.00000</td>\n",
       "      <td>294.00000</td>\n",
       "      <td>71.00000</td>\n",
       "      <td>0.00000</td>\n",
       "      <td>3.00000</td>\n",
       "      <td>1867785.71429</td>\n",
       "    </tr>\n",
       "    <tr>\n",
       "      <th>2019-02-28</th>\n",
       "      <td>2136</td>\n",
       "      <td>28</td>\n",
       "      <td>20.00000</td>\n",
       "      <td>365.00000</td>\n",
       "      <td>66.00000</td>\n",
       "      <td>0.00000</td>\n",
       "      <td>0.00000</td>\n",
       "      <td>2221857.14286</td>\n",
       "    </tr>\n",
       "  </tbody>\n",
       "</table>\n",
       "</div>\n",
       "      <button class=\"colab-df-convert\" onclick=\"convertToInteractive('df-b284e480-6ab9-43a6-bfe5-aee2f5e3ad23')\"\n",
       "              title=\"Convert this dataframe to an interactive table.\"\n",
       "              style=\"display:none;\">\n",
       "        \n",
       "  <svg xmlns=\"http://www.w3.org/2000/svg\" height=\"24px\"viewBox=\"0 0 24 24\"\n",
       "       width=\"24px\">\n",
       "    <path d=\"M0 0h24v24H0V0z\" fill=\"none\"/>\n",
       "    <path d=\"M18.56 5.44l.94 2.06.94-2.06 2.06-.94-2.06-.94-.94-2.06-.94 2.06-2.06.94zm-11 1L8.5 8.5l.94-2.06 2.06-.94-2.06-.94L8.5 2.5l-.94 2.06-2.06.94zm10 10l.94 2.06.94-2.06 2.06-.94-2.06-.94-.94-2.06-.94 2.06-2.06.94z\"/><path d=\"M17.41 7.96l-1.37-1.37c-.4-.4-.92-.59-1.43-.59-.52 0-1.04.2-1.43.59L10.3 9.45l-7.72 7.72c-.78.78-.78 2.05 0 2.83L4 21.41c.39.39.9.59 1.41.59.51 0 1.02-.2 1.41-.59l7.78-7.78 2.81-2.81c.8-.78.8-2.07 0-2.86zM5.41 20L4 18.59l7.72-7.72 1.47 1.35L5.41 20z\"/>\n",
       "  </svg>\n",
       "      </button>\n",
       "      \n",
       "  <style>\n",
       "    .colab-df-container {\n",
       "      display:flex;\n",
       "      flex-wrap:wrap;\n",
       "      gap: 12px;\n",
       "    }\n",
       "\n",
       "    .colab-df-convert {\n",
       "      background-color: #E8F0FE;\n",
       "      border: none;\n",
       "      border-radius: 50%;\n",
       "      cursor: pointer;\n",
       "      display: none;\n",
       "      fill: #1967D2;\n",
       "      height: 32px;\n",
       "      padding: 0 0 0 0;\n",
       "      width: 32px;\n",
       "    }\n",
       "\n",
       "    .colab-df-convert:hover {\n",
       "      background-color: #E2EBFA;\n",
       "      box-shadow: 0px 1px 2px rgba(60, 64, 67, 0.3), 0px 1px 3px 1px rgba(60, 64, 67, 0.15);\n",
       "      fill: #174EA6;\n",
       "    }\n",
       "\n",
       "    [theme=dark] .colab-df-convert {\n",
       "      background-color: #3B4455;\n",
       "      fill: #D2E3FC;\n",
       "    }\n",
       "\n",
       "    [theme=dark] .colab-df-convert:hover {\n",
       "      background-color: #434B5C;\n",
       "      box-shadow: 0px 1px 3px 1px rgba(0, 0, 0, 0.15);\n",
       "      filter: drop-shadow(0px 1px 2px rgba(0, 0, 0, 0.3));\n",
       "      fill: #FFFFFF;\n",
       "    }\n",
       "  </style>\n",
       "\n",
       "      <script>\n",
       "        const buttonEl =\n",
       "          document.querySelector('#df-b284e480-6ab9-43a6-bfe5-aee2f5e3ad23 button.colab-df-convert');\n",
       "        buttonEl.style.display =\n",
       "          google.colab.kernel.accessAllowed ? 'block' : 'none';\n",
       "\n",
       "        async function convertToInteractive(key) {\n",
       "          const element = document.querySelector('#df-b284e480-6ab9-43a6-bfe5-aee2f5e3ad23');\n",
       "          const dataTable =\n",
       "            await google.colab.kernel.invokeFunction('convertToInteractive',\n",
       "                                                     [key], {});\n",
       "          if (!dataTable) return;\n",
       "\n",
       "          const docLinkHtml = 'Like what you see? Visit the ' +\n",
       "            '<a target=\"_blank\" href=https://colab.research.google.com/notebooks/data_table.ipynb>data table notebook</a>'\n",
       "            + ' to learn more about interactive tables.';\n",
       "          element.innerHTML = '';\n",
       "          dataTable['output_type'] = 'display_data';\n",
       "          await google.colab.output.renderOutput(dataTable, element);\n",
       "          const docLink = document.createElement('div');\n",
       "          docLink.innerHTML = docLinkHtml;\n",
       "          element.appendChild(docLink);\n",
       "        }\n",
       "      </script>\n",
       "    </div>\n",
       "  </div>\n",
       "  "
      ],
      "text/plain": [
       "                 store_id  real_tot_day  real_business_day  num_of_pay  \\\n",
       "transacted_date                                                          \n",
       "2018-10-31           2136            31           23.00000   332.00000   \n",
       "2018-11-30           2136            28           20.00000   347.00000   \n",
       "2018-12-31           2136            31           21.00000   396.00000   \n",
       "2019-01-31           2136            31           23.00000   294.00000   \n",
       "2019-02-28           2136            28           20.00000   365.00000   \n",
       "\n",
       "                 num_of_revisit  refund  installment_term        amount  \n",
       "transacted_date                                                          \n",
       "2018-10-31             77.00000 0.00000           0.00000 2012214.28571  \n",
       "2018-11-30             78.00000 0.00000           0.00000 2127642.85714  \n",
       "2018-12-31            101.00000 0.00000           0.00000 2411571.42857  \n",
       "2019-01-31             71.00000 0.00000           3.00000 1867785.71429  \n",
       "2019-02-28             66.00000 0.00000           0.00000 2221857.14286  "
      ]
     },
     "execution_count": 10,
     "metadata": {},
     "output_type": "execute_result"
    }
   ],
   "source": [
    "df_month.tail()"
   ]
  },
  {
   "cell_type": "code",
   "execution_count": 11,
   "metadata": {
    "executionInfo": {
     "elapsed": 281,
     "status": "ok",
     "timestamp": 1640930762562,
     "user": {
      "displayName": "서명교",
      "photoUrl": "https://lh3.googleusercontent.com/a/default-user=s64",
      "userId": "11730583039526359700"
     },
     "user_tz": -540
    },
    "id": "8fbiVFlCfiFW"
   },
   "outputs": [],
   "source": [
    "# df_day = df_day.drop(df_day[df_day['amount']<0].index ,axis=0)"
   ]
  },
  {
   "cell_type": "code",
   "execution_count": 12,
   "metadata": {
    "executionInfo": {
     "elapsed": 3,
     "status": "ok",
     "timestamp": 1640930763005,
     "user": {
      "displayName": "서명교",
      "photoUrl": "https://lh3.googleusercontent.com/a/default-user=s64",
      "userId": "11730583039526359700"
     },
     "user_tz": -540
    },
    "id": "K9q1U4b4yDQR"
   },
   "outputs": [],
   "source": [
    "# df_month = df_month.drop(df_month[df_month['amount']<0].index ,axis=0)"
   ]
  },
  {
   "cell_type": "code",
   "execution_count": 13,
   "metadata": {
    "colab": {
     "base_uri": "https://localhost:8080/",
     "height": 81
    },
    "executionInfo": {
     "elapsed": 6,
     "status": "ok",
     "timestamp": 1640930763650,
     "user": {
      "displayName": "서명교",
      "photoUrl": "https://lh3.googleusercontent.com/a/default-user=s64",
      "userId": "11730583039526359700"
     },
     "user_tz": -540
    },
    "id": "Myiv68HbdYdR",
    "outputId": "05eec0f0-ff39-4e99-8c9b-9227273a4d22"
   },
   "outputs": [
    {
     "data": {
      "text/html": [
       "\n",
       "  <div id=\"df-961058aa-3562-4adf-826a-cdb1ee132dd2\">\n",
       "    <div class=\"colab-df-container\">\n",
       "      <div>\n",
       "<style scoped>\n",
       "    .dataframe tbody tr th:only-of-type {\n",
       "        vertical-align: middle;\n",
       "    }\n",
       "\n",
       "    .dataframe tbody tr th {\n",
       "        vertical-align: top;\n",
       "    }\n",
       "\n",
       "    .dataframe thead th {\n",
       "        text-align: right;\n",
       "    }\n",
       "</style>\n",
       "<table border=\"1\" class=\"dataframe\">\n",
       "  <thead>\n",
       "    <tr style=\"text-align: right;\">\n",
       "      <th></th>\n",
       "      <th>store_id</th>\n",
       "      <th>real_tot_day</th>\n",
       "      <th>real_business_day</th>\n",
       "      <th>num_of_pay</th>\n",
       "      <th>num_of_revisit</th>\n",
       "      <th>refund</th>\n",
       "      <th>installment_term</th>\n",
       "      <th>amount</th>\n",
       "    </tr>\n",
       "    <tr>\n",
       "      <th>transacted_date</th>\n",
       "      <th></th>\n",
       "      <th></th>\n",
       "      <th></th>\n",
       "      <th></th>\n",
       "      <th></th>\n",
       "      <th></th>\n",
       "      <th></th>\n",
       "      <th></th>\n",
       "    </tr>\n",
       "  </thead>\n",
       "  <tbody>\n",
       "  </tbody>\n",
       "</table>\n",
       "</div>\n",
       "      <button class=\"colab-df-convert\" onclick=\"convertToInteractive('df-961058aa-3562-4adf-826a-cdb1ee132dd2')\"\n",
       "              title=\"Convert this dataframe to an interactive table.\"\n",
       "              style=\"display:none;\">\n",
       "        \n",
       "  <svg xmlns=\"http://www.w3.org/2000/svg\" height=\"24px\"viewBox=\"0 0 24 24\"\n",
       "       width=\"24px\">\n",
       "    <path d=\"M0 0h24v24H0V0z\" fill=\"none\"/>\n",
       "    <path d=\"M18.56 5.44l.94 2.06.94-2.06 2.06-.94-2.06-.94-.94-2.06-.94 2.06-2.06.94zm-11 1L8.5 8.5l.94-2.06 2.06-.94-2.06-.94L8.5 2.5l-.94 2.06-2.06.94zm10 10l.94 2.06.94-2.06 2.06-.94-2.06-.94-.94-2.06-.94 2.06-2.06.94z\"/><path d=\"M17.41 7.96l-1.37-1.37c-.4-.4-.92-.59-1.43-.59-.52 0-1.04.2-1.43.59L10.3 9.45l-7.72 7.72c-.78.78-.78 2.05 0 2.83L4 21.41c.39.39.9.59 1.41.59.51 0 1.02-.2 1.41-.59l7.78-7.78 2.81-2.81c.8-.78.8-2.07 0-2.86zM5.41 20L4 18.59l7.72-7.72 1.47 1.35L5.41 20z\"/>\n",
       "  </svg>\n",
       "      </button>\n",
       "      \n",
       "  <style>\n",
       "    .colab-df-container {\n",
       "      display:flex;\n",
       "      flex-wrap:wrap;\n",
       "      gap: 12px;\n",
       "    }\n",
       "\n",
       "    .colab-df-convert {\n",
       "      background-color: #E8F0FE;\n",
       "      border: none;\n",
       "      border-radius: 50%;\n",
       "      cursor: pointer;\n",
       "      display: none;\n",
       "      fill: #1967D2;\n",
       "      height: 32px;\n",
       "      padding: 0 0 0 0;\n",
       "      width: 32px;\n",
       "    }\n",
       "\n",
       "    .colab-df-convert:hover {\n",
       "      background-color: #E2EBFA;\n",
       "      box-shadow: 0px 1px 2px rgba(60, 64, 67, 0.3), 0px 1px 3px 1px rgba(60, 64, 67, 0.15);\n",
       "      fill: #174EA6;\n",
       "    }\n",
       "\n",
       "    [theme=dark] .colab-df-convert {\n",
       "      background-color: #3B4455;\n",
       "      fill: #D2E3FC;\n",
       "    }\n",
       "\n",
       "    [theme=dark] .colab-df-convert:hover {\n",
       "      background-color: #434B5C;\n",
       "      box-shadow: 0px 1px 3px 1px rgba(0, 0, 0, 0.15);\n",
       "      filter: drop-shadow(0px 1px 2px rgba(0, 0, 0, 0.3));\n",
       "      fill: #FFFFFF;\n",
       "    }\n",
       "  </style>\n",
       "\n",
       "      <script>\n",
       "        const buttonEl =\n",
       "          document.querySelector('#df-961058aa-3562-4adf-826a-cdb1ee132dd2 button.colab-df-convert');\n",
       "        buttonEl.style.display =\n",
       "          google.colab.kernel.accessAllowed ? 'block' : 'none';\n",
       "\n",
       "        async function convertToInteractive(key) {\n",
       "          const element = document.querySelector('#df-961058aa-3562-4adf-826a-cdb1ee132dd2');\n",
       "          const dataTable =\n",
       "            await google.colab.kernel.invokeFunction('convertToInteractive',\n",
       "                                                     [key], {});\n",
       "          if (!dataTable) return;\n",
       "\n",
       "          const docLinkHtml = 'Like what you see? Visit the ' +\n",
       "            '<a target=\"_blank\" href=https://colab.research.google.com/notebooks/data_table.ipynb>data table notebook</a>'\n",
       "            + ' to learn more about interactive tables.';\n",
       "          element.innerHTML = '';\n",
       "          dataTable['output_type'] = 'display_data';\n",
       "          await google.colab.output.renderOutput(dataTable, element);\n",
       "          const docLink = document.createElement('div');\n",
       "          docLink.innerHTML = docLinkHtml;\n",
       "          element.appendChild(docLink);\n",
       "        }\n",
       "      </script>\n",
       "    </div>\n",
       "  </div>\n",
       "  "
      ],
      "text/plain": [
       "Empty DataFrame\n",
       "Columns: [store_id, real_tot_day, real_business_day, num_of_pay, num_of_revisit, refund, installment_term, amount]\n",
       "Index: []"
      ]
     },
     "execution_count": 13,
     "metadata": {},
     "output_type": "execute_result"
    }
   ],
   "source": [
    "df_month[df_month['amount']<0]"
   ]
  },
  {
   "cell_type": "code",
   "execution_count": 14,
   "metadata": {
    "colab": {
     "base_uri": "https://localhost:8080/"
    },
    "executionInfo": {
     "elapsed": 405,
     "status": "ok",
     "timestamp": 1640930765386,
     "user": {
      "displayName": "서명교",
      "photoUrl": "https://lh3.googleusercontent.com/a/default-user=s64",
      "userId": "11730583039526359700"
     },
     "user_tz": -540
    },
    "id": "m9csiPubo7-b",
    "outputId": "be979be3-8a8f-48c8-bc31-98b4ab99c2ec"
   },
   "outputs": [
    {
     "data": {
      "text/plain": [
       "make_scorer(rmsle)"
      ]
     },
     "execution_count": 14,
     "metadata": {},
     "output_type": "execute_result"
    }
   ],
   "source": [
    "from sklearn.metrics import make_scorer\n",
    "\n",
    "def rmsle(predicted_values, actual_values, convertExp=True):\n",
    "\n",
    "    if convertExp:\n",
    "        predicted_values = np.exp(predicted_values),\n",
    "        actual_values = np.exp(actual_values)\n",
    "        \n",
    "    # 넘파이로 배열 형태로 바꿔준다.\n",
    "    predicted_values = np.array(predicted_values)\n",
    "    actual_values = np.array(actual_values)\n",
    "    \n",
    "    # 예측값과 실제 값에 1을 더하고 로그를 씌워준다.\n",
    "    # 값이 0일 수도 있어서 로그를 취했을 때 마이너스 무한대가 될 수도 있기 때문에 1을 더해 줌\n",
    "    # 로그를 씌워주는 것은 정규분포로 만들어주기 위해\n",
    "    log_predict = np.log(predicted_values + 1)\n",
    "    log_actual = np.log(actual_values + 1)\n",
    "    \n",
    "    # 위에서 계산한 예측값에서 실제값을 빼주고 제곱을 해준다.\n",
    "    difference = log_predict - log_actual\n",
    "    difference = np.square(difference)\n",
    "    \n",
    "    # 평균을 낸다.\n",
    "    mean_difference = difference.mean()\n",
    "    \n",
    "    # 다시 루트를 씌운다.\n",
    "    score = np.sqrt(mean_difference)\n",
    "    \n",
    "    return score\n",
    "rmsle_scorer = make_scorer(rmsle)\n",
    "rmsle_scorer"
   ]
  },
  {
   "cell_type": "markdown",
   "metadata": {
    "id": "PJUUncPb7jCW"
   },
   "source": [
    "###데이터 나누기"
   ]
  },
  {
   "cell_type": "code",
   "execution_count": 15,
   "metadata": {
    "executionInfo": {
     "elapsed": 259,
     "status": "ok",
     "timestamp": 1640930768052,
     "user": {
      "displayName": "서명교",
      "photoUrl": "https://lh3.googleusercontent.com/a/default-user=s64",
      "userId": "11730583039526359700"
     },
     "user_tz": -540
    },
    "id": "MzhS5ejczMNb"
   },
   "outputs": [],
   "source": [
    "X =df_month.loc[:,'store_id':'num_of_revisit']\n",
    "y =df_month.loc[:,'amount']\n",
    "\n",
    "X_train, X_test, y_train, y_test = train_test_split(X, y,test_size=0.33, random_state = 100)"
   ]
  },
  {
   "cell_type": "code",
   "execution_count": 16,
   "metadata": {
    "executionInfo": {
     "elapsed": 2,
     "status": "ok",
     "timestamp": 1640930769313,
     "user": {
      "displayName": "서명교",
      "photoUrl": "https://lh3.googleusercontent.com/a/default-user=s64",
      "userId": "11730583039526359700"
     },
     "user_tz": -540
    },
    "id": "8wxzA7X3WAk4"
   },
   "outputs": [],
   "source": [
    "# 타입변경\n",
    "# df_day = df_day.astype('float')\n",
    "# df_day = df_day.astypes({'amount':'float'})"
   ]
  },
  {
   "cell_type": "markdown",
   "metadata": {
    "id": "D4ukJhaa7fBx"
   },
   "source": [
    "머신러닝 적용"
   ]
  },
  {
   "cell_type": "markdown",
   "metadata": {
    "id": "WSsgqIsJteDI"
   },
   "source": [
    "##LinearRegression"
   ]
  },
  {
   "cell_type": "code",
   "execution_count": null,
   "metadata": {
    "colab": {
     "base_uri": "https://localhost:8080/"
    },
    "executionInfo": {
     "elapsed": 374,
     "status": "ok",
     "timestamp": 1640837826488,
     "user": {
      "displayName": "서명교",
      "photoUrl": "https://lh3.googleusercontent.com/a/default-user=s64",
      "userId": "11730583039526359700"
     },
     "user_tz": -540
    },
    "id": "M2wlr_2rzMVJ",
    "outputId": "4874d4e1-ebbc-4245-d6b5-15b4b60ac64a"
   },
   "outputs": [
    {
     "name": "stdout",
     "output_type": "stream",
     "text": [
      "RMSLE Value For Linear Regression:  1.5022249723572598\n"
     ]
    }
   ],
   "source": [
    "model = LinearRegression()\n",
    "# 모델을 학습시킨다.\n",
    "y_train_log = np.log1p(y_train)\n",
    "model.fit(X_train, y_train_log)\n",
    "\n",
    "# 예측하고 정확도를 평가한다.\n",
    "preds = model.predict(X_train)\n",
    "\n",
    "print (\"RMSLE Value For Linear Regression: \",\n",
    "       rmsle(np.exp(y_train_log),np.exp(preds), False))"
   ]
  },
  {
   "cell_type": "markdown",
   "metadata": {
    "id": "9ew1NAquxb0e"
   },
   "source": [
    "##Ridge"
   ]
  },
  {
   "cell_type": "code",
   "execution_count": null,
   "metadata": {
    "colab": {
     "base_uri": "https://localhost:8080/"
    },
    "executionInfo": {
     "elapsed": 3872,
     "status": "ok",
     "timestamp": 1640764241146,
     "user": {
      "displayName": "서명교",
      "photoUrl": "https://lh3.googleusercontent.com/a/default-user=s64",
      "userId": "11730583039526359700"
     },
     "user_tz": -540
    },
    "id": "YQGx8EhZotNw",
    "outputId": "bb9660fc-077d-4b56-f2ff-7bea15eef4ad"
   },
   "outputs": [
    {
     "name": "stdout",
     "output_type": "stream",
     "text": [
      "{'alpha': 1000, 'max_iter': 1000}\n",
      "RMSLE Value For Ridge Regression:  1.5628128040450626\n"
     ]
    }
   ],
   "source": [
    "from sklearn import metrics\n",
    "ridge_m_ = Ridge()\n",
    "ridge_params_ = { 'max_iter':[1000,2000,3000],'alpha':[0.01, 0.1, 1, 2, 3, 4, 10, 30,100,200,300,400,800,900,1000]}\n",
    "rmsle_scorer = metrics.make_scorer(rmsle, greater_is_better=False)\n",
    "grid_ridge_m = GridSearchCV( ridge_m_,\n",
    "                          ridge_params_,\n",
    "                          scoring = rmsle_scorer,\n",
    "                          cv=5)\n",
    "\n",
    "y_train_log = np.log1p(y_train)\n",
    "grid_ridge_m.fit( X_train, y_train_log )\n",
    "preds = grid_ridge_m.predict(X_train)\n",
    "print (grid_ridge_m.best_params_)\n",
    "print (\"RMSLE Value For Ridge Regression: \", rmsle(np.exp(y_train_log),np.exp(preds), False))\n",
    "\n",
    "df = pd.DataFrame(grid_ridge_m.cv_results_)"
   ]
  },
  {
   "cell_type": "markdown",
   "metadata": {
    "id": "5p2wCZnes2H8"
   },
   "source": [
    "##lasso"
   ]
  },
  {
   "cell_type": "code",
   "execution_count": null,
   "metadata": {
    "colab": {
     "base_uri": "https://localhost:8080/"
    },
    "executionInfo": {
     "elapsed": 3023,
     "status": "ok",
     "timestamp": 1640837833436,
     "user": {
      "displayName": "서명교",
      "photoUrl": "https://lh3.googleusercontent.com/a/default-user=s64",
      "userId": "11730583039526359700"
     },
     "user_tz": -540
    },
    "id": "m8mYSx2ks40j",
    "outputId": "2c563008-bc31-44c2-be32-2b41e1271518"
   },
   "outputs": [
    {
     "name": "stdout",
     "output_type": "stream",
     "text": [
      "{'alpha': 10.0, 'max_iter': 3000}\n",
      "RMSLE Value For Lasso Regression:  1.65422464497394\n"
     ]
    }
   ],
   "source": [
    "lasso_m_ = Lasso()\n",
    "\n",
    "alpha  = 1/np.array([0.1, 1, 2, 3, 4, 10, 30,100,200,300,400,800,900,1000])\n",
    "lasso_params_ = { 'max_iter':[3000],'alpha':alpha}\n",
    "\n",
    "grid_lasso_m = GridSearchCV( lasso_m_,lasso_params_,scoring = rmsle_scorer,cv=5)\n",
    "y_train_log = np.log1p(y_train)\n",
    "grid_lasso_m.fit( X_train , y_train_log )\n",
    "preds = grid_lasso_m.predict(X_train)\n",
    "print (grid_lasso_m.best_params_)\n",
    "print (\"RMSLE Value For Lasso Regression: \",rmsle(np.exp(y_train_log),np.exp(preds),False))\n",
    "\n",
    "# df = pd.DataFrame(grid_lasso_m.cv_results_)\n",
    "# df[\"alpha\"] = df[\"params\"].apply(lambda x:x[\"alpha\"])\n",
    "# df[\"rmsle\"] = df[\"mean_test_score\"].apply(lambda x:-x)\n",
    "\n",
    "# df[[\"alpha\", \"rmsle\"]].head()"
   ]
  },
  {
   "cell_type": "markdown",
   "metadata": {
    "id": "wxhVkov1s_vV"
   },
   "source": [
    "##Ensemble Models -랜덤포레스트"
   ]
  },
  {
   "cell_type": "code",
   "execution_count": null,
   "metadata": {
    "colab": {
     "base_uri": "https://localhost:8080/"
    },
    "executionInfo": {
     "elapsed": 15679,
     "status": "ok",
     "timestamp": 1640837852544,
     "user": {
      "displayName": "서명교",
      "photoUrl": "https://lh3.googleusercontent.com/a/default-user=s64",
      "userId": "11730583039526359700"
     },
     "user_tz": -540
    },
    "id": "PRFmmlM1s5HC",
    "outputId": "5496b850-0825-4ddd-9b19-1705590f59ac"
   },
   "outputs": [
    {
     "name": "stdout",
     "output_type": "stream",
     "text": [
      "RMSLE Value For Random Forest:  0.2681916486623197\n"
     ]
    }
   ],
   "source": [
    "from sklearn.ensemble import RandomForestRegressor\n",
    "rfModel = RandomForestRegressor(n_estimators=100)\n",
    "\n",
    "y_train_log = np.log1p(y_train)\n",
    "rfModel.fit(X_train, y_train_log)\n",
    "\n",
    "preds = rfModel.predict(X_train)\n",
    "score = rmsle(np.exp(y_train_log),np.exp(preds),False)\n",
    "print (\"RMSLE Value For Random Forest: \",score)"
   ]
  },
  {
   "cell_type": "markdown",
   "metadata": {
    "id": "gVD2Yfsptvx4"
   },
   "source": [
    "##Ensemble Model - Gradient Boost"
   ]
  },
  {
   "cell_type": "code",
   "execution_count": null,
   "metadata": {
    "colab": {
     "base_uri": "https://localhost:8080/"
    },
    "executionInfo": {
     "elapsed": 6599,
     "status": "ok",
     "timestamp": 1640837859141,
     "user": {
      "displayName": "서명교",
      "photoUrl": "https://lh3.googleusercontent.com/a/default-user=s64",
      "userId": "11730583039526359700"
     },
     "user_tz": -540
    },
    "id": "AN1ZkmiMs4_S",
    "outputId": "6ee30ddc-5bae-4b5f-cbe5-25b018446136"
   },
   "outputs": [
    {
     "name": "stdout",
     "output_type": "stream",
     "text": [
      "RMSLE Value For Gradient Boost:  0.8216324601901901\n"
     ]
    }
   ],
   "source": [
    "from sklearn.ensemble import GradientBoostingRegressor\n",
    "gbm = GradientBoostingRegressor(n_estimators=200, alpha=0.01);\n",
    "\n",
    "y_train_log = np.log1p(y_train)\n",
    "gbm.fit(X_train, y_train_log)\n",
    "\n",
    "preds = gbm.predict(X_train)\n",
    "score = rmsle(np.exp(y_train_log),np.exp(preds),False)\n",
    "print (\"RMSLE Value For Gradient Boost: \", score)"
   ]
  },
  {
   "cell_type": "code",
   "execution_count": null,
   "metadata": {
    "colab": {
     "base_uri": "https://localhost:8080/",
     "height": 567
    },
    "executionInfo": {
     "elapsed": 4799,
     "status": "ok",
     "timestamp": 1640838007442,
     "user": {
      "displayName": "서명교",
      "photoUrl": "https://lh3.googleusercontent.com/a/default-user=s64",
      "userId": "11730583039526359700"
     },
     "user_tz": -540
    },
    "id": "fineDDd_uBWG",
    "outputId": "c5aa290f-abe0-4513-fca6-5b16cda996ae"
   },
   "outputs": [
    {
     "name": "stderr",
     "output_type": "stream",
     "text": [
      "/usr/local/lib/python3.7/dist-packages/seaborn/distributions.py:2619: FutureWarning: `distplot` is a deprecated function and will be removed in a future version. Please adapt your code to use either `displot` (a figure-level function with similar flexibility) or `histplot` (an axes-level function for histograms).\n",
      "  warnings.warn(msg, FutureWarning)\n",
      "/usr/local/lib/python3.7/dist-packages/seaborn/distributions.py:2619: FutureWarning: `distplot` is a deprecated function and will be removed in a future version. Please adapt your code to use either `displot` (a figure-level function with similar flexibility) or `histplot` (an axes-level function for histograms).\n",
      "  warnings.warn(msg, FutureWarning)\n",
      "/usr/local/lib/python3.7/dist-packages/seaborn/distributions.py:2619: FutureWarning: `distplot` is a deprecated function and will be removed in a future version. Please adapt your code to use either `displot` (a figure-level function with similar flexibility) or `histplot` (an axes-level function for histograms).\n",
      "  warnings.warn(msg, FutureWarning)\n",
      "/usr/local/lib/python3.7/dist-packages/seaborn/distributions.py:2619: FutureWarning: `distplot` is a deprecated function and will be removed in a future version. Please adapt your code to use either `displot` (a figure-level function with similar flexibility) or `histplot` (an axes-level function for histograms).\n",
      "  warnings.warn(msg, FutureWarning)\n",
      "/usr/local/lib/python3.7/dist-packages/seaborn/distributions.py:2619: FutureWarning: `distplot` is a deprecated function and will be removed in a future version. Please adapt your code to use either `displot` (a figure-level function with similar flexibility) or `histplot` (an axes-level function for histograms).\n",
      "  warnings.warn(msg, FutureWarning)\n"
     ]
    },
    {
     "data": {
      "text/plain": [
       "<matplotlib.axes._subplots.AxesSubplot at 0x7f5c22dcc350>"
      ]
     },
     "execution_count": 37,
     "metadata": {},
     "output_type": "execute_result"
    },
    {
     "name": "stderr",
     "output_type": "stream",
     "text": [
      "findfont: Font family ['NanumGothic'] not found. Falling back to DejaVu Sans.\n"
     ]
    },
    {
     "data": {
      "image/png": "[encoded data removed]",
      "text/plain": [
       "<Figure size 864x360 with 5 Axes>"
      ]
     },
     "metadata": {
      "needs_background": "light"
     },
     "output_type": "display_data"
    }
   ],
   "source": [
    "#gbm 예측 그래프\n",
    "predsTest = model.predict(X_test)\n",
    "predsTest_rf = rfModel.predict(X_test)\n",
    "predsTest_grm = grid_lasso_m.predict(X_test)\n",
    "predsTest_gbm = gbm.predict(X_test)\n",
    "fig,(ax1,ax2,ax3,ax4,ax5)= plt.subplots(ncols=5)\n",
    "fig.set_size_inches(12,5)\n",
    "sns.distplot(y_train,ax=ax1,bins=50)\n",
    "sns.distplot(np.exp(predsTest),ax=ax2,bins=50)\n",
    "sns.distplot(np.exp(predsTest_rf),ax=ax3,bins=50)\n",
    "sns.distplot(np.exp(predsTest_grm),ax=ax4,bins=50)\n",
    "sns.distplot(np.exp(predsTest_gbm),ax=ax5,bins=50)"
   ]
  },
  {
   "cell_type": "code",
   "execution_count": null,
   "metadata": {
    "colab": {
     "base_uri": "https://localhost:8080/",
     "height": 454
    },
    "executionInfo": {
     "elapsed": 359,
     "status": "ok",
     "timestamp": 1640838025869,
     "user": {
      "displayName": "서명교",
      "photoUrl": "https://lh3.googleusercontent.com/a/default-user=s64",
      "userId": "11730583039526359700"
     },
     "user_tz": -540
    },
    "id": "wkrUBHCVKE6L",
    "outputId": "5d9bf36c-f606-4710-d749-031d7bea06a4"
   },
   "outputs": [
    {
     "data": {
      "text/html": [
       "\n",
       "  <div id=\"df-0cb89bf1-dedd-4a76-9de2-ed8205048d55\">\n",
       "    <div class=\"colab-df-container\">\n",
       "      <div>\n",
       "<style scoped>\n",
       "    .dataframe tbody tr th:only-of-type {\n",
       "        vertical-align: middle;\n",
       "    }\n",
       "\n",
       "    .dataframe tbody tr th {\n",
       "        vertical-align: top;\n",
       "    }\n",
       "\n",
       "    .dataframe thead th {\n",
       "        text-align: right;\n",
       "    }\n",
       "</style>\n",
       "<table border=\"1\" class=\"dataframe\">\n",
       "  <thead>\n",
       "    <tr style=\"text-align: right;\">\n",
       "      <th></th>\n",
       "      <th>store_id</th>\n",
       "      <th>real_tot_day</th>\n",
       "      <th>real_business_day</th>\n",
       "      <th>num_of_pay</th>\n",
       "      <th>num_of_revisit</th>\n",
       "    </tr>\n",
       "    <tr>\n",
       "      <th>transacted_date</th>\n",
       "      <th></th>\n",
       "      <th></th>\n",
       "      <th></th>\n",
       "      <th></th>\n",
       "      <th></th>\n",
       "    </tr>\n",
       "  </thead>\n",
       "  <tbody>\n",
       "    <tr>\n",
       "      <th>2017-07-31</th>\n",
       "      <td>2002</td>\n",
       "      <td>22</td>\n",
       "      <td>14.00000</td>\n",
       "      <td>34.00000</td>\n",
       "      <td>1.00000</td>\n",
       "    </tr>\n",
       "    <tr>\n",
       "      <th>2017-12-31</th>\n",
       "      <td>729</td>\n",
       "      <td>18</td>\n",
       "      <td>15.00000</td>\n",
       "      <td>31.00000</td>\n",
       "      <td>12.00000</td>\n",
       "    </tr>\n",
       "    <tr>\n",
       "      <th>2017-09-30</th>\n",
       "      <td>979</td>\n",
       "      <td>11</td>\n",
       "      <td>10.00000</td>\n",
       "      <td>15.00000</td>\n",
       "      <td>10.00000</td>\n",
       "    </tr>\n",
       "    <tr>\n",
       "      <th>2017-07-31</th>\n",
       "      <td>1151</td>\n",
       "      <td>26</td>\n",
       "      <td>20.00000</td>\n",
       "      <td>94.00000</td>\n",
       "      <td>37.00000</td>\n",
       "    </tr>\n",
       "    <tr>\n",
       "      <th>2018-05-31</th>\n",
       "      <td>905</td>\n",
       "      <td>13</td>\n",
       "      <td>11.00000</td>\n",
       "      <td>27.00000</td>\n",
       "      <td>24.00000</td>\n",
       "    </tr>\n",
       "    <tr>\n",
       "      <th>...</th>\n",
       "      <td>...</td>\n",
       "      <td>...</td>\n",
       "      <td>...</td>\n",
       "      <td>...</td>\n",
       "      <td>...</td>\n",
       "    </tr>\n",
       "    <tr>\n",
       "      <th>2018-12-31</th>\n",
       "      <td>486</td>\n",
       "      <td>13</td>\n",
       "      <td>7.00000</td>\n",
       "      <td>19.00000</td>\n",
       "      <td>4.00000</td>\n",
       "    </tr>\n",
       "    <tr>\n",
       "      <th>2016-10-31</th>\n",
       "      <td>1529</td>\n",
       "      <td>31</td>\n",
       "      <td>21.00000</td>\n",
       "      <td>226.00000</td>\n",
       "      <td>58.00000</td>\n",
       "    </tr>\n",
       "    <tr>\n",
       "      <th>2017-11-30</th>\n",
       "      <td>1836</td>\n",
       "      <td>16</td>\n",
       "      <td>10.00000</td>\n",
       "      <td>29.00000</td>\n",
       "      <td>4.00000</td>\n",
       "    </tr>\n",
       "    <tr>\n",
       "      <th>2019-01-31</th>\n",
       "      <td>1075</td>\n",
       "      <td>29</td>\n",
       "      <td>22.00000</td>\n",
       "      <td>75.00000</td>\n",
       "      <td>11.00000</td>\n",
       "    </tr>\n",
       "    <tr>\n",
       "      <th>2016-07-31</th>\n",
       "      <td>1446</td>\n",
       "      <td>23</td>\n",
       "      <td>15.00000</td>\n",
       "      <td>41.00000</td>\n",
       "      <td>14.00000</td>\n",
       "    </tr>\n",
       "  </tbody>\n",
       "</table>\n",
       "<p>20075 rows × 5 columns</p>\n",
       "</div>\n",
       "      <button class=\"colab-df-convert\" onclick=\"convertToInteractive('df-0cb89bf1-dedd-4a76-9de2-ed8205048d55')\"\n",
       "              title=\"Convert this dataframe to an interactive table.\"\n",
       "              style=\"display:none;\">\n",
       "        \n",
       "  <svg xmlns=\"http://www.w3.org/2000/svg\" height=\"24px\"viewBox=\"0 0 24 24\"\n",
       "       width=\"24px\">\n",
       "    <path d=\"M0 0h24v24H0V0z\" fill=\"none\"/>\n",
       "    <path d=\"M18.56 5.44l.94 2.06.94-2.06 2.06-.94-2.06-.94-.94-2.06-.94 2.06-2.06.94zm-11 1L8.5 8.5l.94-2.06 2.06-.94-2.06-.94L8.5 2.5l-.94 2.06-2.06.94zm10 10l.94 2.06.94-2.06 2.06-.94-2.06-.94-.94-2.06-.94 2.06-2.06.94z\"/><path d=\"M17.41 7.96l-1.37-1.37c-.4-.4-.92-.59-1.43-.59-.52 0-1.04.2-1.43.59L10.3 9.45l-7.72 7.72c-.78.78-.78 2.05 0 2.83L4 21.41c.39.39.9.59 1.41.59.51 0 1.02-.2 1.41-.59l7.78-7.78 2.81-2.81c.8-.78.8-2.07 0-2.86zM5.41 20L4 18.59l7.72-7.72 1.47 1.35L5.41 20z\"/>\n",
       "  </svg>\n",
       "      </button>\n",
       "      \n",
       "  <style>\n",
       "    .colab-df-container {\n",
       "      display:flex;\n",
       "      flex-wrap:wrap;\n",
       "      gap: 12px;\n",
       "    }\n",
       "\n",
       "    .colab-df-convert {\n",
       "      background-color: #E8F0FE;\n",
       "      border: none;\n",
       "      border-radius: 50%;\n",
       "      cursor: pointer;\n",
       "      display: none;\n",
       "      fill: #1967D2;\n",
       "      height: 32px;\n",
       "      padding: 0 0 0 0;\n",
       "      width: 32px;\n",
       "    }\n",
       "\n",
       "    .colab-df-convert:hover {\n",
       "      background-color: #E2EBFA;\n",
       "      box-shadow: 0px 1px 2px rgba(60, 64, 67, 0.3), 0px 1px 3px 1px rgba(60, 64, 67, 0.15);\n",
       "      fill: #174EA6;\n",
       "    }\n",
       "\n",
       "    [theme=dark] .colab-df-convert {\n",
       "      background-color: #3B4455;\n",
       "      fill: #D2E3FC;\n",
       "    }\n",
       "\n",
       "    [theme=dark] .colab-df-convert:hover {\n",
       "      background-color: #434B5C;\n",
       "      box-shadow: 0px 1px 3px 1px rgba(0, 0, 0, 0.15);\n",
       "      filter: drop-shadow(0px 1px 2px rgba(0, 0, 0, 0.3));\n",
       "      fill: #FFFFFF;\n",
       "    }\n",
       "  </style>\n",
       "\n",
       "      <script>\n",
       "        const buttonEl =\n",
       "          document.querySelector('#df-0cb89bf1-dedd-4a76-9de2-ed8205048d55 button.colab-df-convert');\n",
       "        buttonEl.style.display =\n",
       "          google.colab.kernel.accessAllowed ? 'block' : 'none';\n",
       "\n",
       "        async function convertToInteractive(key) {\n",
       "          const element = document.querySelector('#df-0cb89bf1-dedd-4a76-9de2-ed8205048d55');\n",
       "          const dataTable =\n",
       "            await google.colab.kernel.invokeFunction('convertToInteractive',\n",
       "                                                     [key], {});\n",
       "          if (!dataTable) return;\n",
       "\n",
       "          const docLinkHtml = 'Like what you see? Visit the ' +\n",
       "            '<a target=\"_blank\" href=https://colab.research.google.com/notebooks/data_table.ipynb>data table notebook</a>'\n",
       "            + ' to learn more about interactive tables.';\n",
       "          element.innerHTML = '';\n",
       "          dataTable['output_type'] = 'display_data';\n",
       "          await google.colab.output.renderOutput(dataTable, element);\n",
       "          const docLink = document.createElement('div');\n",
       "          docLink.innerHTML = docLinkHtml;\n",
       "          element.appendChild(docLink);\n",
       "        }\n",
       "      </script>\n",
       "    </div>\n",
       "  </div>\n",
       "  "
      ],
      "text/plain": [
       "                 store_id  real_tot_day  real_business_day  num_of_pay  \\\n",
       "transacted_date                                                          \n",
       "2017-07-31           2002            22           14.00000    34.00000   \n",
       "2017-12-31            729            18           15.00000    31.00000   \n",
       "2017-09-30            979            11           10.00000    15.00000   \n",
       "2017-07-31           1151            26           20.00000    94.00000   \n",
       "2018-05-31            905            13           11.00000    27.00000   \n",
       "...                   ...           ...                ...         ...   \n",
       "2018-12-31            486            13            7.00000    19.00000   \n",
       "2016-10-31           1529            31           21.00000   226.00000   \n",
       "2017-11-30           1836            16           10.00000    29.00000   \n",
       "2019-01-31           1075            29           22.00000    75.00000   \n",
       "2016-07-31           1446            23           15.00000    41.00000   \n",
       "\n",
       "                 num_of_revisit  \n",
       "transacted_date                  \n",
       "2017-07-31              1.00000  \n",
       "2017-12-31             12.00000  \n",
       "2017-09-30             10.00000  \n",
       "2017-07-31             37.00000  \n",
       "2018-05-31             24.00000  \n",
       "...                         ...  \n",
       "2018-12-31              4.00000  \n",
       "2016-10-31             58.00000  \n",
       "2017-11-30              4.00000  \n",
       "2019-01-31             11.00000  \n",
       "2016-07-31             14.00000  \n",
       "\n",
       "[20075 rows x 5 columns]"
      ]
     },
     "execution_count": 38,
     "metadata": {},
     "output_type": "execute_result"
    }
   ],
   "source": [
    "X_test"
   ]
  },
  {
   "cell_type": "code",
   "execution_count": null,
   "metadata": {
    "id": "J7z-gAimBc0V"
   },
   "outputs": [],
   "source": [
    "compare = pd.DataFrame()\n",
    "compare['store_id'] = X_test['store_id']\n",
    "compare['y_true'] = y_test\n",
    "compare['y_predict_li'] = np.exp(predsTest)\n",
    "compare['y_predict_rf'] = np.exp(predsTest_rf)\n",
    "compare['y_predict_grm'] = np.exp(predsTest_grm)\n",
    "compare['y_predict_gbm'] = np.exp(predsTest_gbm)"
   ]
  },
  {
   "cell_type": "code",
   "execution_count": null,
   "metadata": {
    "colab": {
     "base_uri": "https://localhost:8080/",
     "height": 454
    },
    "executionInfo": {
     "elapsed": 5,
     "status": "ok",
     "timestamp": 1640838038610,
     "user": {
      "displayName": "서명교",
      "photoUrl": "https://lh3.googleusercontent.com/a/default-user=s64",
      "userId": "11730583039526359700"
     },
     "user_tz": -540
    },
    "id": "ogvks9nhBr_D",
    "outputId": "fbf094c6-0309-41b5-e1ca-c3ab389de8ab"
   },
   "outputs": [
    {
     "data": {
      "text/html": [
       "\n",
       "  <div id=\"df-a458d6af-d574-4760-836c-51d473396275\">\n",
       "    <div class=\"colab-df-container\">\n",
       "      <div>\n",
       "<style scoped>\n",
       "    .dataframe tbody tr th:only-of-type {\n",
       "        vertical-align: middle;\n",
       "    }\n",
       "\n",
       "    .dataframe tbody tr th {\n",
       "        vertical-align: top;\n",
       "    }\n",
       "\n",
       "    .dataframe thead th {\n",
       "        text-align: right;\n",
       "    }\n",
       "</style>\n",
       "<table border=\"1\" class=\"dataframe\">\n",
       "  <thead>\n",
       "    <tr style=\"text-align: right;\">\n",
       "      <th></th>\n",
       "      <th>store_id</th>\n",
       "      <th>y_true</th>\n",
       "      <th>y_predict_li</th>\n",
       "      <th>y_predict_rf</th>\n",
       "      <th>y_predict_grm</th>\n",
       "      <th>y_predict_gbm</th>\n",
       "    </tr>\n",
       "    <tr>\n",
       "      <th>transacted_date</th>\n",
       "      <th></th>\n",
       "      <th></th>\n",
       "      <th></th>\n",
       "      <th></th>\n",
       "      <th></th>\n",
       "      <th></th>\n",
       "    </tr>\n",
       "  </thead>\n",
       "  <tbody>\n",
       "    <tr>\n",
       "      <th>2016-06-30</th>\n",
       "      <td>1328</td>\n",
       "      <td>1318071.42857</td>\n",
       "      <td>1023963.09729</td>\n",
       "      <td>921412.10690</td>\n",
       "      <td>563623.69489</td>\n",
       "      <td>756980.94884</td>\n",
       "    </tr>\n",
       "    <tr>\n",
       "      <th>2016-06-30</th>\n",
       "      <td>1778</td>\n",
       "      <td>1198642.85714</td>\n",
       "      <td>1088338.87106</td>\n",
       "      <td>900769.80079</td>\n",
       "      <td>529995.42716</td>\n",
       "      <td>813962.13680</td>\n",
       "    </tr>\n",
       "    <tr>\n",
       "      <th>2016-06-30</th>\n",
       "      <td>426</td>\n",
       "      <td>1264571.42857</td>\n",
       "      <td>995186.07255</td>\n",
       "      <td>651800.10023</td>\n",
       "      <td>467045.91087</td>\n",
       "      <td>864136.68782</td>\n",
       "    </tr>\n",
       "    <tr>\n",
       "      <th>2016-06-30</th>\n",
       "      <td>1774</td>\n",
       "      <td>82285.71429</td>\n",
       "      <td>460261.31986</td>\n",
       "      <td>239387.71880</td>\n",
       "      <td>411724.62634</td>\n",
       "      <td>503019.69128</td>\n",
       "    </tr>\n",
       "    <tr>\n",
       "      <th>2016-06-30</th>\n",
       "      <td>1</td>\n",
       "      <td>137214.28571</td>\n",
       "      <td>1488927.12065</td>\n",
       "      <td>194603.82171</td>\n",
       "      <td>693392.73647</td>\n",
       "      <td>176905.89422</td>\n",
       "    </tr>\n",
       "    <tr>\n",
       "      <th>...</th>\n",
       "      <td>...</td>\n",
       "      <td>...</td>\n",
       "      <td>...</td>\n",
       "      <td>...</td>\n",
       "      <td>...</td>\n",
       "      <td>...</td>\n",
       "    </tr>\n",
       "    <tr>\n",
       "      <th>2019-02-28</th>\n",
       "      <td>2094</td>\n",
       "      <td>118714.28571</td>\n",
       "      <td>238709.32213</td>\n",
       "      <td>414685.00041</td>\n",
       "      <td>363310.62004</td>\n",
       "      <td>384521.93689</td>\n",
       "    </tr>\n",
       "    <tr>\n",
       "      <th>2019-02-28</th>\n",
       "      <td>1719</td>\n",
       "      <td>450000.00000</td>\n",
       "      <td>226133.16264</td>\n",
       "      <td>378192.91428</td>\n",
       "      <td>345305.92199</td>\n",
       "      <td>380588.97237</td>\n",
       "    </tr>\n",
       "    <tr>\n",
       "      <th>2019-02-28</th>\n",
       "      <td>1662</td>\n",
       "      <td>109857.14286</td>\n",
       "      <td>108910.11246</td>\n",
       "      <td>517798.55281</td>\n",
       "      <td>343368.83209</td>\n",
       "      <td>219310.60012</td>\n",
       "    </tr>\n",
       "    <tr>\n",
       "      <th>2019-02-28</th>\n",
       "      <td>207</td>\n",
       "      <td>1501142.85714</td>\n",
       "      <td>1028214.62670</td>\n",
       "      <td>972934.08078</td>\n",
       "      <td>581933.59911</td>\n",
       "      <td>745719.49249</td>\n",
       "    </tr>\n",
       "    <tr>\n",
       "      <th>2019-02-28</th>\n",
       "      <td>48</td>\n",
       "      <td>901714.28571</td>\n",
       "      <td>712625.19749</td>\n",
       "      <td>946947.96556</td>\n",
       "      <td>1075584.96535</td>\n",
       "      <td>967571.91682</td>\n",
       "    </tr>\n",
       "  </tbody>\n",
       "</table>\n",
       "<p>20075 rows × 6 columns</p>\n",
       "</div>\n",
       "      <button class=\"colab-df-convert\" onclick=\"convertToInteractive('df-a458d6af-d574-4760-836c-51d473396275')\"\n",
       "              title=\"Convert this dataframe to an interactive table.\"\n",
       "              style=\"display:none;\">\n",
       "        \n",
       "  <svg xmlns=\"http://www.w3.org/2000/svg\" height=\"24px\"viewBox=\"0 0 24 24\"\n",
       "       width=\"24px\">\n",
       "    <path d=\"M0 0h24v24H0V0z\" fill=\"none\"/>\n",
       "    <path d=\"M18.56 5.44l.94 2.06.94-2.06 2.06-.94-2.06-.94-.94-2.06-.94 2.06-2.06.94zm-11 1L8.5 8.5l.94-2.06 2.06-.94-2.06-.94L8.5 2.5l-.94 2.06-2.06.94zm10 10l.94 2.06.94-2.06 2.06-.94-2.06-.94-.94-2.06-.94 2.06-2.06.94z\"/><path d=\"M17.41 7.96l-1.37-1.37c-.4-.4-.92-.59-1.43-.59-.52 0-1.04.2-1.43.59L10.3 9.45l-7.72 7.72c-.78.78-.78 2.05 0 2.83L4 21.41c.39.39.9.59 1.41.59.51 0 1.02-.2 1.41-.59l7.78-7.78 2.81-2.81c.8-.78.8-2.07 0-2.86zM5.41 20L4 18.59l7.72-7.72 1.47 1.35L5.41 20z\"/>\n",
       "  </svg>\n",
       "      </button>\n",
       "      \n",
       "  <style>\n",
       "    .colab-df-container {\n",
       "      display:flex;\n",
       "      flex-wrap:wrap;\n",
       "      gap: 12px;\n",
       "    }\n",
       "\n",
       "    .colab-df-convert {\n",
       "      background-color: #E8F0FE;\n",
       "      border: none;\n",
       "      border-radius: 50%;\n",
       "      cursor: pointer;\n",
       "      display: none;\n",
       "      fill: #1967D2;\n",
       "      height: 32px;\n",
       "      padding: 0 0 0 0;\n",
       "      width: 32px;\n",
       "    }\n",
       "\n",
       "    .colab-df-convert:hover {\n",
       "      background-color: #E2EBFA;\n",
       "      box-shadow: 0px 1px 2px rgba(60, 64, 67, 0.3), 0px 1px 3px 1px rgba(60, 64, 67, 0.15);\n",
       "      fill: #174EA6;\n",
       "    }\n",
       "\n",
       "    [theme=dark] .colab-df-convert {\n",
       "      background-color: #3B4455;\n",
       "      fill: #D2E3FC;\n",
       "    }\n",
       "\n",
       "    [theme=dark] .colab-df-convert:hover {\n",
       "      background-color: #434B5C;\n",
       "      box-shadow: 0px 1px 3px 1px rgba(0, 0, 0, 0.15);\n",
       "      filter: drop-shadow(0px 1px 2px rgba(0, 0, 0, 0.3));\n",
       "      fill: #FFFFFF;\n",
       "    }\n",
       "  </style>\n",
       "\n",
       "      <script>\n",
       "        const buttonEl =\n",
       "          document.querySelector('#df-a458d6af-d574-4760-836c-51d473396275 button.colab-df-convert');\n",
       "        buttonEl.style.display =\n",
       "          google.colab.kernel.accessAllowed ? 'block' : 'none';\n",
       "\n",
       "        async function convertToInteractive(key) {\n",
       "          const element = document.querySelector('#df-a458d6af-d574-4760-836c-51d473396275');\n",
       "          const dataTable =\n",
       "            await google.colab.kernel.invokeFunction('convertToInteractive',\n",
       "                                                     [key], {});\n",
       "          if (!dataTable) return;\n",
       "\n",
       "          const docLinkHtml = 'Like what you see? Visit the ' +\n",
       "            '<a target=\"_blank\" href=https://colab.research.google.com/notebooks/data_table.ipynb>data table notebook</a>'\n",
       "            + ' to learn more about interactive tables.';\n",
       "          element.innerHTML = '';\n",
       "          dataTable['output_type'] = 'display_data';\n",
       "          await google.colab.output.renderOutput(dataTable, element);\n",
       "          const docLink = document.createElement('div');\n",
       "          docLink.innerHTML = docLinkHtml;\n",
       "          element.appendChild(docLink);\n",
       "        }\n",
       "      </script>\n",
       "    </div>\n",
       "  </div>\n",
       "  "
      ],
      "text/plain": [
       "                 store_id        y_true  y_predict_li  y_predict_rf  \\\n",
       "transacted_date                                                       \n",
       "2016-06-30           1328 1318071.42857 1023963.09729  921412.10690   \n",
       "2016-06-30           1778 1198642.85714 1088338.87106  900769.80079   \n",
       "2016-06-30            426 1264571.42857  995186.07255  651800.10023   \n",
       "2016-06-30           1774   82285.71429  460261.31986  239387.71880   \n",
       "2016-06-30              1  137214.28571 1488927.12065  194603.82171   \n",
       "...                   ...           ...           ...           ...   \n",
       "2019-02-28           2094  118714.28571  238709.32213  414685.00041   \n",
       "2019-02-28           1719  450000.00000  226133.16264  378192.91428   \n",
       "2019-02-28           1662  109857.14286  108910.11246  517798.55281   \n",
       "2019-02-28            207 1501142.85714 1028214.62670  972934.08078   \n",
       "2019-02-28             48  901714.28571  712625.19749  946947.96556   \n",
       "\n",
       "                 y_predict_grm  y_predict_gbm  \n",
       "transacted_date                                \n",
       "2016-06-30        563623.69489   756980.94884  \n",
       "2016-06-30        529995.42716   813962.13680  \n",
       "2016-06-30        467045.91087   864136.68782  \n",
       "2016-06-30        411724.62634   503019.69128  \n",
       "2016-06-30        693392.73647   176905.89422  \n",
       "...                        ...            ...  \n",
       "2019-02-28        363310.62004   384521.93689  \n",
       "2019-02-28        345305.92199   380588.97237  \n",
       "2019-02-28        343368.83209   219310.60012  \n",
       "2019-02-28        581933.59911   745719.49249  \n",
       "2019-02-28       1075584.96535   967571.91682  \n",
       "\n",
       "[20075 rows x 6 columns]"
      ]
     },
     "execution_count": 40,
     "metadata": {},
     "output_type": "execute_result"
    }
   ],
   "source": [
    "compare.sort_index(ascending=True)"
   ]
  },
  {
   "cell_type": "markdown",
   "metadata": {
    "id": "QyFgEvyyR1I4"
   },
   "source": [
    "그래프"
   ]
  },
  {
   "cell_type": "code",
   "execution_count": null,
   "metadata": {
    "colab": {
     "base_uri": "https://localhost:8080/",
     "height": 346
    },
    "executionInfo": {
     "elapsed": 2539,
     "status": "ok",
     "timestamp": 1640852549301,
     "user": {
      "displayName": "서명교",
      "photoUrl": "https://lh3.googleusercontent.com/a/default-user=s64",
      "userId": "11730583039526359700"
     },
     "user_tz": -540
    },
    "id": "6hMHlVMIR2GS",
    "outputId": "0e8fe0fc-38b0-49e3-a70c-9cfe7204e958"
   },
   "outputs": [
    {
     "data": {
      "text/plain": [
       "<matplotlib.axes._subplots.AxesSubplot at 0x7f5c1a1b0250>"
      ]
     },
     "execution_count": 65,
     "metadata": {},
     "output_type": "execute_result"
    },
    {
     "data": {
      "image/png": "[encoded data removed]",
      "text/plain": [
       "<Figure size 2160x360 with 5 Axes>"
      ]
     },
     "metadata": {
      "needs_background": "light"
     },
     "output_type": "display_data"
    }
   ],
   "source": [
    "fig,(ax1,ax2,ax3,ax4,ax5)= plt.subplots(ncols=5)\n",
    "fig.set_size_inches(30,5)\n",
    "srore_check = (compare['store_id']==1400)\n",
    "compare[srore_check]['y_true'].plot(title = 'y_true' , ax=ax1)\n",
    "compare[srore_check]['y_predict_li'].plot(title = 'y_predict_li', ax=ax2)\n",
    "compare[srore_check]['y_predict_rf'].plot(title = 'y_predict_rf', ax=ax3)\n",
    "compare[srore_check]['y_predict_grm'].plot(title = 'y_predict_grm', ax=ax4)\n",
    "compare[srore_check]['y_predict_gbm'].plot(title = 'y_predict_gbm', ax=ax5)"
   ]
  },
  {
   "cell_type": "code",
   "execution_count": null,
   "metadata": {
    "colab": {
     "base_uri": "https://localhost:8080/"
    },
    "executionInfo": {
     "elapsed": 358,
     "status": "ok",
     "timestamp": 1640849019367,
     "user": {
      "displayName": "서명교",
      "photoUrl": "https://lh3.googleusercontent.com/a/default-user=s64",
      "userId": "11730583039526359700"
     },
     "user_tz": -540
    },
    "id": "G2p348hMOMD5",
    "outputId": "feb4b92f-6a6e-45d3-89e0-9bd063f2659b"
   },
   "outputs": [
    {
     "data": {
      "text/plain": [
       "(60833, 8)"
      ]
     },
     "execution_count": 50,
     "metadata": {},
     "output_type": "execute_result"
    }
   ],
   "source": [
    "df_month.shape"
   ]
  },
  {
   "cell_type": "markdown",
   "metadata": {
    "id": "OWC_Xa57lJ5u"
   },
   "source": [
    "# 시계열 분석"
   ]
  },
  {
   "cell_type": "markdown",
   "metadata": {
    "id": "cN35dQobk_X5"
   },
   "source": [
    "## LSTM"
   ]
  },
  {
   "cell_type": "code",
   "execution_count": null,
   "metadata": {
    "id": "ntQSr-Bbk_NN"
   },
   "outputs": [],
   "source": []
  },
  {
   "cell_type": "markdown",
   "metadata": {
    "id": "w9pqre87lEuP"
   },
   "source": [
    "## RNN"
   ]
  },
  {
   "cell_type": "code",
   "execution_count": null,
   "metadata": {
    "id": "wS4wuSGHk_EV"
   },
   "outputs": [],
   "source": []
  },
  {
   "cell_type": "code",
   "execution_count": null,
   "metadata": {
    "id": "uPkiiiLuk-5V"
   },
   "outputs": [],
   "source": []
  },
  {
   "cell_type": "markdown",
   "metadata": {
    "id": "vE0Zs-P7R20a"
   },
   "source": [
    "원하는 기간 예측"
   ]
  },
  {
   "cell_type": "code",
   "execution_count": null,
   "metadata": {
    "colab": {
     "base_uri": "https://localhost:8080/"
    },
    "executionInfo": {
     "elapsed": 261,
     "status": "ok",
     "timestamp": 1640770042924,
     "user": {
      "displayName": "서명교",
      "photoUrl": "https://lh3.googleusercontent.com/a/default-user=s64",
      "userId": "11730583039526359700"
     },
     "user_tz": -540
    },
    "id": "DUe73J2fYJWH",
    "outputId": "61315c93-39ad-4d70-94ff-05495c144b6b"
   },
   "outputs": [
    {
     "data": {
      "text/plain": [
       "DatetimeIndex(['2019-03-01', '2019-03-02', '2019-03-03', '2019-03-04',\n",
       "               '2019-03-05', '2019-03-06', '2019-03-07', '2019-03-08',\n",
       "               '2019-03-09', '2019-03-10', '2019-03-11', '2019-03-12',\n",
       "               '2019-03-13', '2019-03-14', '2019-03-15', '2019-03-16',\n",
       "               '2019-03-17', '2019-03-18', '2019-03-19', '2019-03-20',\n",
       "               '2019-03-21', '2019-03-22', '2019-03-23', '2019-03-24',\n",
       "               '2019-03-25', '2019-03-26', '2019-03-27', '2019-03-28',\n",
       "               '2019-03-29', '2019-03-30', '2019-03-31', '2019-04-01',\n",
       "               '2019-04-02', '2019-04-03', '2019-04-04', '2019-04-05',\n",
       "               '2019-04-06', '2019-04-07', '2019-04-08', '2019-04-09',\n",
       "               '2019-04-10', '2019-04-11', '2019-04-12', '2019-04-13',\n",
       "               '2019-04-14', '2019-04-15', '2019-04-16', '2019-04-17',\n",
       "               '2019-04-18', '2019-04-19', '2019-04-20', '2019-04-21',\n",
       "               '2019-04-22', '2019-04-23', '2019-04-24', '2019-04-25',\n",
       "               '2019-04-26', '2019-04-27', '2019-04-28', '2019-04-29',\n",
       "               '2019-04-30', '2019-05-01', '2019-05-02', '2019-05-03',\n",
       "               '2019-05-04', '2019-05-05', '2019-05-06', '2019-05-07',\n",
       "               '2019-05-08', '2019-05-09', '2019-05-10', '2019-05-11',\n",
       "               '2019-05-12', '2019-05-13', '2019-05-14', '2019-05-15',\n",
       "               '2019-05-16', '2019-05-17', '2019-05-18', '2019-05-19',\n",
       "               '2019-05-20', '2019-05-21', '2019-05-22', '2019-05-23',\n",
       "               '2019-05-24', '2019-05-25', '2019-05-26', '2019-05-27',\n",
       "               '2019-05-28', '2019-05-29', '2019-05-30', '2019-05-31'],\n",
       "              dtype='datetime64[ns]', freq='D')"
      ]
     },
     "execution_count": 140,
     "metadata": {},
     "output_type": "execute_result"
    }
   ],
   "source": [
    "date_idx = pd.date_range('2019-03-01', '2019-05-31')\n",
    "date_idx"
   ]
  },
  {
   "cell_type": "code",
   "execution_count": null,
   "metadata": {
    "colab": {
     "base_uri": "https://localhost:8080/",
     "height": 401
    },
    "executionInfo": {
     "elapsed": 414,
     "status": "error",
     "timestamp": 1640761289222,
     "user": {
      "displayName": "서명교",
      "photoUrl": "https://lh3.googleusercontent.com/a/default-user=s64",
      "userId": "11730583039526359700"
     },
     "user_tz": -540
    },
    "id": "YxjRpIBhuDGY",
    "outputId": "dbb08f1d-c02f-464d-da17-2b8262191c7b"
   },
   "outputs": [
    {
     "ename": "ValueError",
     "evalue": "ignored",
     "output_type": "error",
     "traceback": [
      "\u001b[0;31m---------------------------------------------------------------------------\u001b[0m",
      "\u001b[0;31mValueError\u001b[0m                                Traceback (most recent call last)",
      "\u001b[0;32m<ipython-input-35-5e9bcb4b85df>\u001b[0m in \u001b[0;36m<module>\u001b[0;34m()\u001b[0m\n\u001b[1;32m      1\u001b[0m \u001b[0;31m#df_sub\u001b[0m\u001b[0;34m\u001b[0m\u001b[0;34m\u001b[0m\u001b[0;34m\u001b[0m\u001b[0m\n\u001b[1;32m      2\u001b[0m \u001b[0;34m\u001b[0m\u001b[0m\n\u001b[0;32m----> 3\u001b[0;31m \u001b[0mdf_sub\u001b[0m\u001b[0;34m[\u001b[0m\u001b[0;34m\"amount\"\u001b[0m\u001b[0;34m]\u001b[0m \u001b[0;34m=\u001b[0m \u001b[0mnp\u001b[0m\u001b[0;34m.\u001b[0m\u001b[0mexp\u001b[0m\u001b[0;34m(\u001b[0m\u001b[0mpredsTest_rf\u001b[0m\u001b[0;34m)\u001b[0m\u001b[0;34m\u001b[0m\u001b[0;34m\u001b[0m\u001b[0m\n\u001b[0m\u001b[1;32m      4\u001b[0m \u001b[0;34m\u001b[0m\u001b[0m\n\u001b[1;32m      5\u001b[0m \u001b[0mprint\u001b[0m\u001b[0;34m(\u001b[0m\u001b[0mdf_sub\u001b[0m\u001b[0;34m.\u001b[0m\u001b[0mshape\u001b[0m\u001b[0;34m)\u001b[0m\u001b[0;34m\u001b[0m\u001b[0;34m\u001b[0m\u001b[0m\n",
      "\u001b[0;32m/usr/local/lib/python3.7/dist-packages/pandas/core/frame.py\u001b[0m in \u001b[0;36m__setitem__\u001b[0;34m(self, key, value)\u001b[0m\n\u001b[1;32m   3042\u001b[0m         \u001b[0;32melse\u001b[0m\u001b[0;34m:\u001b[0m\u001b[0;34m\u001b[0m\u001b[0;34m\u001b[0m\u001b[0m\n\u001b[1;32m   3043\u001b[0m             \u001b[0;31m# set column\u001b[0m\u001b[0;34m\u001b[0m\u001b[0;34m\u001b[0m\u001b[0;34m\u001b[0m\u001b[0m\n\u001b[0;32m-> 3044\u001b[0;31m             \u001b[0mself\u001b[0m\u001b[0;34m.\u001b[0m\u001b[0m_set_item\u001b[0m\u001b[0;34m(\u001b[0m\u001b[0mkey\u001b[0m\u001b[0;34m,\u001b[0m \u001b[0mvalue\u001b[0m\u001b[0;34m)\u001b[0m\u001b[0;34m\u001b[0m\u001b[0;34m\u001b[0m\u001b[0m\n\u001b[0m\u001b[1;32m   3045\u001b[0m \u001b[0;34m\u001b[0m\u001b[0m\n\u001b[1;32m   3046\u001b[0m     \u001b[0;32mdef\u001b[0m \u001b[0m_setitem_slice\u001b[0m\u001b[0;34m(\u001b[0m\u001b[0mself\u001b[0m\u001b[0;34m,\u001b[0m \u001b[0mkey\u001b[0m\u001b[0;34m:\u001b[0m \u001b[0mslice\u001b[0m\u001b[0;34m,\u001b[0m \u001b[0mvalue\u001b[0m\u001b[0;34m)\u001b[0m\u001b[0;34m:\u001b[0m\u001b[0;34m\u001b[0m\u001b[0;34m\u001b[0m\u001b[0m\n",
      "\u001b[0;32m/usr/local/lib/python3.7/dist-packages/pandas/core/frame.py\u001b[0m in \u001b[0;36m_set_item\u001b[0;34m(self, key, value)\u001b[0m\n\u001b[1;32m   3118\u001b[0m         \"\"\"\n\u001b[1;32m   3119\u001b[0m         \u001b[0mself\u001b[0m\u001b[0;34m.\u001b[0m\u001b[0m_ensure_valid_index\u001b[0m\u001b[0;34m(\u001b[0m\u001b[0mvalue\u001b[0m\u001b[0;34m)\u001b[0m\u001b[0;34m\u001b[0m\u001b[0;34m\u001b[0m\u001b[0m\n\u001b[0;32m-> 3120\u001b[0;31m         \u001b[0mvalue\u001b[0m \u001b[0;34m=\u001b[0m \u001b[0mself\u001b[0m\u001b[0;34m.\u001b[0m\u001b[0m_sanitize_column\u001b[0m\u001b[0;34m(\u001b[0m\u001b[0mkey\u001b[0m\u001b[0;34m,\u001b[0m \u001b[0mvalue\u001b[0m\u001b[0;34m)\u001b[0m\u001b[0;34m\u001b[0m\u001b[0;34m\u001b[0m\u001b[0m\n\u001b[0m\u001b[1;32m   3121\u001b[0m         \u001b[0mNDFrame\u001b[0m\u001b[0;34m.\u001b[0m\u001b[0m_set_item\u001b[0m\u001b[0;34m(\u001b[0m\u001b[0mself\u001b[0m\u001b[0;34m,\u001b[0m \u001b[0mkey\u001b[0m\u001b[0;34m,\u001b[0m \u001b[0mvalue\u001b[0m\u001b[0;34m)\u001b[0m\u001b[0;34m\u001b[0m\u001b[0;34m\u001b[0m\u001b[0m\n\u001b[1;32m   3122\u001b[0m \u001b[0;34m\u001b[0m\u001b[0m\n",
      "\u001b[0;32m/usr/local/lib/python3.7/dist-packages/pandas/core/frame.py\u001b[0m in \u001b[0;36m_sanitize_column\u001b[0;34m(self, key, value, broadcast)\u001b[0m\n\u001b[1;32m   3766\u001b[0m \u001b[0;34m\u001b[0m\u001b[0m\n\u001b[1;32m   3767\u001b[0m             \u001b[0;31m# turn me into an ndarray\u001b[0m\u001b[0;34m\u001b[0m\u001b[0;34m\u001b[0m\u001b[0;34m\u001b[0m\u001b[0m\n\u001b[0;32m-> 3768\u001b[0;31m             \u001b[0mvalue\u001b[0m \u001b[0;34m=\u001b[0m \u001b[0msanitize_index\u001b[0m\u001b[0;34m(\u001b[0m\u001b[0mvalue\u001b[0m\u001b[0;34m,\u001b[0m \u001b[0mself\u001b[0m\u001b[0;34m.\u001b[0m\u001b[0mindex\u001b[0m\u001b[0;34m)\u001b[0m\u001b[0;34m\u001b[0m\u001b[0;34m\u001b[0m\u001b[0m\n\u001b[0m\u001b[1;32m   3769\u001b[0m             \u001b[0;32mif\u001b[0m \u001b[0;32mnot\u001b[0m \u001b[0misinstance\u001b[0m\u001b[0;34m(\u001b[0m\u001b[0mvalue\u001b[0m\u001b[0;34m,\u001b[0m \u001b[0;34m(\u001b[0m\u001b[0mnp\u001b[0m\u001b[0;34m.\u001b[0m\u001b[0mndarray\u001b[0m\u001b[0;34m,\u001b[0m \u001b[0mIndex\u001b[0m\u001b[0;34m)\u001b[0m\u001b[0;34m)\u001b[0m\u001b[0;34m:\u001b[0m\u001b[0;34m\u001b[0m\u001b[0;34m\u001b[0m\u001b[0m\n\u001b[1;32m   3770\u001b[0m                 \u001b[0;32mif\u001b[0m \u001b[0misinstance\u001b[0m\u001b[0;34m(\u001b[0m\u001b[0mvalue\u001b[0m\u001b[0;34m,\u001b[0m \u001b[0mlist\u001b[0m\u001b[0;34m)\u001b[0m \u001b[0;32mand\u001b[0m \u001b[0mlen\u001b[0m\u001b[0;34m(\u001b[0m\u001b[0mvalue\u001b[0m\u001b[0;34m)\u001b[0m \u001b[0;34m>\u001b[0m \u001b[0;36m0\u001b[0m\u001b[0;34m:\u001b[0m\u001b[0;34m\u001b[0m\u001b[0;34m\u001b[0m\u001b[0m\n",
      "\u001b[0;32m/usr/local/lib/python3.7/dist-packages/pandas/core/internals/construction.py\u001b[0m in \u001b[0;36msanitize_index\u001b[0;34m(data, index)\u001b[0m\n\u001b[1;32m    746\u001b[0m     \u001b[0;32mif\u001b[0m \u001b[0mlen\u001b[0m\u001b[0;34m(\u001b[0m\u001b[0mdata\u001b[0m\u001b[0;34m)\u001b[0m \u001b[0;34m!=\u001b[0m \u001b[0mlen\u001b[0m\u001b[0;34m(\u001b[0m\u001b[0mindex\u001b[0m\u001b[0;34m)\u001b[0m\u001b[0;34m:\u001b[0m\u001b[0;34m\u001b[0m\u001b[0;34m\u001b[0m\u001b[0m\n\u001b[1;32m    747\u001b[0m         raise ValueError(\n\u001b[0;32m--> 748\u001b[0;31m             \u001b[0;34m\"Length of values \"\u001b[0m\u001b[0;34m\u001b[0m\u001b[0;34m\u001b[0m\u001b[0m\n\u001b[0m\u001b[1;32m    749\u001b[0m             \u001b[0;34mf\"({len(data)}) \"\u001b[0m\u001b[0;34m\u001b[0m\u001b[0;34m\u001b[0m\u001b[0m\n\u001b[1;32m    750\u001b[0m             \u001b[0;34m\"does not match length of index \"\u001b[0m\u001b[0;34m\u001b[0m\u001b[0;34m\u001b[0m\u001b[0m\n",
      "\u001b[0;31mValueError\u001b[0m: Length of values (16879) does not match length of index (1967)"
     ]
    }
   ],
   "source": [
    "#df_sub\n",
    "\n",
    "df_sub[\"amount\"] = np.exp(predsTest_rf)\n",
    "\n",
    "print(df_sub.shape)\n",
    "df_sub.head()"
   ]
  }
 ],
 "metadata": {
  "colab": {
   "authorship_tag": "ABX9TyP+MAH+/T8z2xDa3VMcoG2v",
   "collapsed_sections": [],
   "name": "해커톤 1.ipynb",
   "provenance": []
  },
  "kernelspec": {
   "display_name": "Python 3 (ipykernel)",
   "language": "python",
   "name": "python3"
  },
  "language_info": {
   "codemirror_mode": {
    "name": "ipython",
    "version": 3
   },
   "file_extension": ".py",
   "mimetype": "text/x-python",
   "name": "python",
   "nbconvert_exporter": "python",
   "pygments_lexer": "ipython3",
   "version": "3.9.9"
  }
 },
 "nbformat": 4,
 "nbformat_minor": 4
}
